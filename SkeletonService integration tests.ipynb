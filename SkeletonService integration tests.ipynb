{
 "cells": [
  {
   "cell_type": "markdown",
   "id": "ca3325b3-5db4-4d60-b3f4-3fda0c796191",
   "metadata": {},
   "source": [
    "# SkeletonService integration tests\n",
    "\n",
    "## This integration test suite can be run by simply restarting wih a fresh kernel and then running all cells.\n",
    "## Any failures will be indicated with large bold red output, while all successes will be indicated by corresponding green output.\n",
    "## Note that there is a corresponding command-line version of this test in a separate file. Please refer to that file for instructions on its use."
   ]
  },
  {
   "cell_type": "code",
   "execution_count": 31,
   "id": "23603652-da9d-4b89-8670-e5a8b846cdd7",
   "metadata": {},
   "outputs": [
    {
     "data": {
      "text/html": [
       "<style>:root { --jp-notebook-max-width: 100% !important; }</style>"
      ],
      "text/plain": [
       "<IPython.core.display.HTML object>"
      ]
     },
     "metadata": {},
     "output_type": "display_data"
    }
   ],
   "source": [
    "from IPython.display import display, HTML\n",
    "display(HTML(\"<style>:root { --jp-notebook-max-width: 100% !important; }</style>\"))"
   ]
  },
  {
   "cell_type": "code",
   "execution_count": 64,
   "id": "5168b3e2-d6ba-42f3-bccd-a4f22e19da79",
   "metadata": {},
   "outputs": [],
   "source": [
    "import urllib3\n",
    "urllib3.disable_warnings(urllib3.exceptions.InsecureRequestWarning)\n",
    "\n",
    "import logging\n",
    "logger = logging.getLogger()\n",
    "logger.setLevel(logging.WARNING)\n",
    "\n",
    "from IPython.display import Markdown, display\n",
    "def printmd(string):\n",
    "    display(Markdown(string))\n",
    "\n",
    "def test_passed():\n",
    "    printmd(\"# <font color='green'><b>TEST PASSED</b></font>\")\n",
    "\n",
    "def test_failed():\n",
    "    printmd(\"# <font color='red'><b>TEST FAILED</b></font>\")\n",
    "\n",
    "def print_test_result(result):\n",
    "    if result:\n",
    "        test_passed()\n",
    "    else:\n",
    "        test_failed()\n",
    "\n",
    "def test(result):\n",
    "    print_test_result(result)\n",
    "    # Asserting the result prevents the notebook from automatically running all tests.\n",
    "    # I'm unsure if I want to assert the result and stop or gather all test results at the end.\n",
    "    # assert result\n",
    "    return result"
   ]
  },
  {
   "cell_type": "markdown",
   "id": "d6763f25-6f4e-408c-8918-6fc811f27972",
   "metadata": {},
   "source": [
    "# Set things up"
   ]
  },
  {
   "cell_type": "code",
   "execution_count": 33,
   "id": "91d27e65-ff56-4112-998d-481e0145da9f",
   "metadata": {},
   "outputs": [
    {
     "name": "stdout",
     "output_type": "stream",
     "text": [
      "CAVEclient version: v7.7.0 , v7.7.0\n"
     ]
    }
   ],
   "source": [
    "import caveclient as cc\n",
    "import importlib.metadata\n",
    "\n",
    "print(f\"CAVEclient version: v{cc.__version__} , v{importlib.metadata.version('CAVEclient')}\")\n",
    "\n",
    "datastack_name = \"minnie65_phase3_v1\"\n",
    "\n",
    "client = cc.CAVEclient(datastack_name)\n",
    "client.materialize.version = 1078"
   ]
  },
  {
   "cell_type": "markdown",
   "id": "18ba4dd9-9391-473e-91c0-fc9543672b33",
   "metadata": {},
   "source": [
    "## Pick a test server:\n",
    "* **localhost:5000 — Test SkeletonService on the local machine, say via the VS Code Debugger**\n",
    "* **ltv5 — The SkeletonService on the test cluster**\n",
    "* **minniev6 — Test SkeletonService \"in the wild\"**"
   ]
  },
  {
   "cell_type": "code",
   "execution_count": 34,
   "id": "e11233c0-c130-42ad-aad9-c8fd1e016f1b",
   "metadata": {},
   "outputs": [
    {
     "name": "stdout",
     "output_type": "stream",
     "text": [
      "SkeletonService server and version: https://ltv5.microns-daf.com , v0.18.5\n"
     ]
    }
   ],
   "source": [
    "# server_address = \"https://localhost:5000\"\n",
    "server_address = \"https://ltv5.microns-daf.com\"\n",
    "# server_address = \"https://minniev6.microns-daf.com\"\n",
    "\n",
    "skclient = cc.skeletonservice.SkeletonClient(server_address, datastack_name, over_client=client, verify=False)\n",
    "print(f\"SkeletonService server and version: {server_address} , v{skclient._server_version}\")"
   ]
  },
  {
   "cell_type": "code",
   "execution_count": 67,
   "id": "dacfb697-252d-4d12-b2dc-1d5440f49c03",
   "metadata": {},
   "outputs": [],
   "source": [
    "# Hard-code the expected service version instead of retrieving it from the skclient above so we can manually determine when an intended version has fully deployed on a new pod\n",
    "expected_skeleton_service_version = \"0.18.5\"\n",
    "expected_available_skeleton_versions = [-1, 0, 1, 2, 3, 4]\n",
    "bulk_rids = [864691135463611454, 864691135687456480]\n",
    "larger_bulk_rids = bulk_rids * 6  # Twelve rids will exceed the ten-rid limit of get_bulk_skeletons()\n",
    "single_rid = bulk_rids[0]\n",
    "sample_refusal_list_rid = 112233445566778899\n",
    "sample_invalid_node_rid = 864691135687000000\n",
    "sample_supervoxel_rid = 88891049011371731\n",
    "skvn = 4"
   ]
  },
  {
   "cell_type": "markdown",
   "id": "5319b82d-f9bf-46a7-b9c5-75ea0e4c0c8d",
   "metadata": {},
   "source": [
    "# Delete the test rid files from the bucket so we can test regenerating them from scratch"
   ]
  },
  {
   "cell_type": "code",
   "execution_count": 36,
   "id": "65454317-270d-4f72-94f8-8e405cc27955",
   "metadata": {},
   "outputs": [
    {
     "name": "stdout",
     "output_type": "stream",
     "text": [
      "Testing bucket: gs://minnie65_skeletons/ltv/minnie65_phase3_v1/4\n",
      "skeleton__v4__rid-864691135463611454__ds-minnie65_phase3_v1__res-1x1x1__cs-True__cr-7500.h5.gz\n",
      "True\n",
      "skeleton__v4__rid-864691135463611454__ds-minnie65_phase3_v1__res-1x1x1__cs-True__cr-7500.flatdict.gz\n",
      "False\n",
      "skeleton__v4__rid-864691135463611454__ds-minnie65_phase3_v1__res-1x1x1__cs-True__cr-7500.swccompressed.gz\n",
      "False\n",
      "skeleton__v4__rid-864691135687456480__ds-minnie65_phase3_v1__res-1x1x1__cs-True__cr-7500.h5.gz\n",
      "True\n",
      "skeleton__v4__rid-864691135687456480__ds-minnie65_phase3_v1__res-1x1x1__cs-True__cr-7500.flatdict.gz\n",
      "False\n",
      "skeleton__v4__rid-864691135687456480__ds-minnie65_phase3_v1__res-1x1x1__cs-True__cr-7500.swccompressed.gz\n",
      "False\n"
     ]
    }
   ],
   "source": [
    "from cloudfiles import CloudFiles\n",
    "\n",
    "bucket = None\n",
    "if \"localhost\" in server_address or \"ltv\" in server_address:\n",
    "    bucket = f\"gs://minnie65_skeletons/ltv/{datastack_name}/{skvn}\"\n",
    "elif \"minnie\" in server_address:\n",
    "    bucket = f\"gs://minnie65_skeletons/{datastack_name}/{skvn}\"\n",
    "print(f\"Testing bucket: {bucket}\")\n",
    "\n",
    "cf = CloudFiles(bucket)\n",
    "for rid in bulk_rids:\n",
    "    for output_format in [\"h5\", \"flatdict\", \"swccompressed\"]:\n",
    "        filename = f\"skeleton__v{skvn}__rid-{rid}__ds-{datastack_name}__res-1x1x1__cs-True__cr-7500.{output_format}.gz\"\n",
    "        print(filename)\n",
    "        print(cf.exists(filename))"
   ]
  },
  {
   "cell_type": "code",
   "execution_count": 37,
   "id": "ff4640f7-a185-4925-9e34-650d82a59133",
   "metadata": {},
   "outputs": [
    {
     "name": "stdout",
     "output_type": "stream",
     "text": [
      "skeleton__v4__rid-864691135463611454__ds-minnie65_phase3_v1__res-1x1x1__cs-True__cr-7500.h5.gz\n",
      "True\n",
      "False\n",
      "skeleton__v4__rid-864691135463611454__ds-minnie65_phase3_v1__res-1x1x1__cs-True__cr-7500.flatdict.gz\n",
      "False\n",
      "False\n",
      "skeleton__v4__rid-864691135463611454__ds-minnie65_phase3_v1__res-1x1x1__cs-True__cr-7500.swccompressed.gz\n",
      "False\n",
      "False\n",
      "skeleton__v4__rid-864691135687456480__ds-minnie65_phase3_v1__res-1x1x1__cs-True__cr-7500.h5.gz\n",
      "True\n",
      "False\n",
      "skeleton__v4__rid-864691135687456480__ds-minnie65_phase3_v1__res-1x1x1__cs-True__cr-7500.flatdict.gz\n",
      "False\n",
      "False\n",
      "skeleton__v4__rid-864691135687456480__ds-minnie65_phase3_v1__res-1x1x1__cs-True__cr-7500.swccompressed.gz\n",
      "False\n",
      "False\n"
     ]
    }
   ],
   "source": [
    "from cloudfiles import CloudFiles\n",
    "\n",
    "cf = CloudFiles(bucket)\n",
    "for rid in bulk_rids:\n",
    "    for output_format in [\"h5\", \"flatdict\", \"swccompressed\"]:\n",
    "        filename = f\"skeleton__v{skvn}__rid-{rid}__ds-{datastack_name}__res-1x1x1__cs-True__cr-7500.{output_format}.gz\"\n",
    "        print(filename)\n",
    "        print(cf.exists(filename))\n",
    "        cf.delete(filename)\n",
    "        print(cf.exists(filename))"
   ]
  },
  {
   "cell_type": "markdown",
   "id": "2f8d0a85-13dd-42ea-9d4c-a70326ba54ee",
   "metadata": {},
   "source": [
    "## Metadata tests"
   ]
  },
  {
   "cell_type": "code",
   "execution_count": 69,
   "id": "e2df3d8f-8664-4a6a-a5d4-2ad3993ba455",
   "metadata": {},
   "outputs": [
    {
     "data": {
      "text/markdown": [
       "# <font color='green'><b>TEST PASSED</b></font>"
      ],
      "text/plain": [
       "<IPython.core.display.Markdown object>"
      ]
     },
     "metadata": {},
     "output_type": "display_data"
    }
   ],
   "source": [
    "import packaging\n",
    "\n",
    "skeleton_service_version = skclient.get_version()\n",
    "if not test(skeleton_service_version == packaging.version.Version(expected_skeleton_service_version)):\n",
    "    print(\"Make sure you have assigned the expected version near the top of this test suite. Search for 'expected_skeleton_service_version'.\")"
   ]
  },
  {
   "cell_type": "code",
   "execution_count": 39,
   "id": "14d1fedf-3892-434e-be35-c74043452dec",
   "metadata": {},
   "outputs": [
    {
     "data": {
      "text/markdown": [
       "# <font color='green'><b>TEST PASSED</b></font>"
      ],
      "text/plain": [
       "<IPython.core.display.Markdown object>"
      ]
     },
     "metadata": {},
     "output_type": "display_data"
    }
   ],
   "source": [
    "skeleton_versions = skclient.get_versions()\n",
    "test(skeleton_versions == expected_available_skeleton_versions)"
   ]
  },
  {
   "cell_type": "code",
   "execution_count": 40,
   "id": "d71f2c3c-4ede-4a29-aed6-4ed796047caf",
   "metadata": {},
   "outputs": [
    {
     "data": {
      "text/markdown": [
       "# <font color='green'><b>TEST PASSED</b></font>"
      ],
      "text/plain": [
       "<IPython.core.display.Markdown object>"
      ]
     },
     "metadata": {},
     "output_type": "display_data"
    }
   ],
   "source": [
    "precomputed_skeleton_info = skclient.get_precomputed_skeleton_info(skvn=skvn)\n",
    "test(precomputed_skeleton_info == {\n",
    "    '@type': 'neuroglancer_skeletons',\n",
    "    'transform': [1, 0, 0, 0, 0, 1, 0, 0, 0, 0, 1, 0],\n",
    "    'vertex_attributes': [\n",
    "        {'id': 'radius', 'data_type': 'float32', 'num_components': 1},\n",
    "        {'id': 'compartment', 'data_type': 'uint8', 'num_components': 1}\n",
    "    ]\n",
    "})"
   ]
  },
  {
   "cell_type": "markdown",
   "id": "16f89fad-fc04-4c66-9417-9706fd32cce9",
   "metadata": {},
   "source": [
    "## Cache status tests"
   ]
  },
  {
   "cell_type": "code",
   "execution_count": 41,
   "id": "2abbc22b-48e5-490b-b15e-63d068d07392",
   "metadata": {},
   "outputs": [
    {
     "data": {
      "text/markdown": [
       "# <font color='green'><b>TEST PASSED</b></font>"
      ],
      "text/plain": [
       "<IPython.core.display.Markdown object>"
      ]
     },
     "metadata": {},
     "output_type": "display_data"
    }
   ],
   "source": [
    "# %%time\n",
    "import json\n",
    "\n",
    "rids_exist = skclient.skeletons_exist(skeleton_version=skvn, root_ids=bulk_rids)\n",
    "# print(json.dumps(rids_exist, indent=4))\n",
    "test(rids_exist == {\n",
    "    bulk_rids[0]: False,\n",
    "    bulk_rids[1]: False\n",
    "})"
   ]
  },
  {
   "cell_type": "code",
   "execution_count": 42,
   "id": "9ebf952b-a436-4c9f-8e45-614d6e892cef",
   "metadata": {},
   "outputs": [
    {
     "data": {
      "text/markdown": [
       "# <font color='green'><b>TEST PASSED</b></font>"
      ],
      "text/plain": [
       "<IPython.core.display.Markdown object>"
      ]
     },
     "metadata": {},
     "output_type": "display_data"
    }
   ],
   "source": [
    "rids_exist = skclient.skeletons_exist(skeleton_version=skvn, root_ids=bulk_rids, log_warning=False)\n",
    "# print(json.dumps(rids_exist, indent=4))\n",
    "test(rids_exist == {\n",
    "    bulk_rids[0]: False,\n",
    "    bulk_rids[1]: False\n",
    "})"
   ]
  },
  {
   "cell_type": "code",
   "execution_count": 43,
   "id": "3f9e5508-3d03-4a07-94d4-777464a17866",
   "metadata": {},
   "outputs": [
    {
     "name": "stdout",
     "output_type": "stream",
     "text": [
      "{\n",
      "    \"864691135463611454\": false,\n",
      "    \"864691135687456480\": false\n",
      "}\n"
     ]
    },
    {
     "data": {
      "text/markdown": [
       "# <font color='green'><b>TEST PASSED</b></font>"
      ],
      "text/plain": [
       "<IPython.core.display.Markdown object>"
      ]
     },
     "metadata": {},
     "output_type": "display_data"
    }
   ],
   "source": [
    "# Requires CAVEclient version >= v7.6.1\n",
    "rids_exist = skclient.skeletons_exist(skeleton_version=skvn, root_ids=bulk_rids, verbose_level=1)\n",
    "print(json.dumps(rids_exist, indent=4))\n",
    "test(rids_exist == {\n",
    "    bulk_rids[0]: False,\n",
    "    bulk_rids[1]: False\n",
    "})"
   ]
  },
  {
   "cell_type": "markdown",
   "id": "6d291ee4-be9d-4316-8895-ab8ee6b8cf3c",
   "metadata": {},
   "source": [
    "## Cache contents tests"
   ]
  },
  {
   "cell_type": "code",
   "execution_count": 44,
   "id": "0348ea89-9273-417d-a02c-4bb76693c33b",
   "metadata": {},
   "outputs": [
    {
     "name": "stdout",
     "output_type": "stream",
     "text": [
      "{\n",
      "    \"num_found\": 0,\n",
      "    \"files\": []\n",
      "}\n"
     ]
    },
    {
     "data": {
      "text/markdown": [
       "# <font color='green'><b>TEST PASSED</b></font>"
      ],
      "text/plain": [
       "<IPython.core.display.Markdown object>"
      ]
     },
     "metadata": {},
     "output_type": "display_data"
    }
   ],
   "source": [
    "# %%time\n",
    "import json\n",
    "\n",
    "cache_contents = skclient.get_cache_contents(skeleton_version=skvn, root_id_prefixes=bulk_rids)\n",
    "print(json.dumps(cache_contents, indent=4))\n",
    "test(cache_contents == {\n",
    "    \"num_found\": 0,\n",
    "    \"files\": []\n",
    "})"
   ]
  },
  {
   "cell_type": "code",
   "execution_count": 45,
   "id": "d461a71b-86fd-4f5b-b3e9-3c05444fffa5",
   "metadata": {},
   "outputs": [
    {
     "name": "stdout",
     "output_type": "stream",
     "text": [
      "{\n",
      "    \"num_found\": 0,\n",
      "    \"files\": []\n",
      "}\n"
     ]
    },
    {
     "data": {
      "text/markdown": [
       "# <font color='green'><b>TEST PASSED</b></font>"
      ],
      "text/plain": [
       "<IPython.core.display.Markdown object>"
      ]
     },
     "metadata": {},
     "output_type": "display_data"
    }
   ],
   "source": [
    "cache_contents = skclient.get_cache_contents(skeleton_version=skvn, root_id_prefixes=bulk_rids, log_warning=False)\n",
    "print(json.dumps(cache_contents, indent=4))\n",
    "test(cache_contents == {\n",
    "    \"num_found\": 0,\n",
    "    \"files\": []\n",
    "})"
   ]
  },
  {
   "cell_type": "code",
   "execution_count": 46,
   "id": "f155425b-2682-49f5-84e7-567a60be4618",
   "metadata": {},
   "outputs": [
    {
     "name": "stdout",
     "output_type": "stream",
     "text": [
      "{\n",
      "    \"num_found\": 0,\n",
      "    \"files\": []\n",
      "}\n"
     ]
    },
    {
     "data": {
      "text/markdown": [
       "# <font color='green'><b>TEST PASSED</b></font>"
      ],
      "text/plain": [
       "<IPython.core.display.Markdown object>"
      ]
     },
     "metadata": {},
     "output_type": "display_data"
    }
   ],
   "source": [
    "# Requires CAVEclient version >= v7.6.1\n",
    "cache_contents = skclient.get_cache_contents(skeleton_version=skvn, root_id_prefixes=bulk_rids, verbose_level=1)\n",
    "print(json.dumps(cache_contents, indent=4))\n",
    "test(cache_contents == {\n",
    "    \"num_found\": 0,\n",
    "    \"files\": []\n",
    "})"
   ]
  },
  {
   "cell_type": "markdown",
   "id": "079f4aff-7244-4df5-946d-a199d8194d4b",
   "metadata": {},
   "source": [
    "# Invalid skeleton request tests"
   ]
  },
  {
   "cell_type": "code",
   "execution_count": 47,
   "id": "ad6a7abc-3fb5-4b7c-86e0-da1d136998e7",
   "metadata": {},
   "outputs": [
    {
     "name": "stdout",
     "output_type": "stream",
     "text": [
      "Invalid root id: 112233445566778899 (perhaps it doesn't exist; the error is unclear)\n"
     ]
    },
    {
     "data": {
      "text/markdown": [
       "# <font color='green'><b>TEST PASSED</b></font>"
      ],
      "text/plain": [
       "<IPython.core.display.Markdown object>"
      ]
     },
     "metadata": {},
     "output_type": "display_data"
    }
   ],
   "source": [
    "# %%time\n",
    "import requests\n",
    "\n",
    "try:\n",
    "    sk = skclient.get_skeleton(sample_refusal_list_rid, datastack_name, skeleton_version=skvn, output_format='dict', verbose_level=1)\n",
    "    test_failed()\n",
    "except ValueError as e:\n",
    "    print(e.args[0])\n",
    "    test(e.args[0] == 'Invalid root id: ' + str(sample_refusal_list_rid) + ' (perhaps it doesn\\'t exist; the error is unclear)')\n",
    "# except requests.HTTPError as e:\n",
    "#     print(e)\n",
    "#     test(e.response.text == '{\\n    \"Error\": \"Problematic root id: ' + str(sample_refusal_list_rid) + ' is in the refusal list\"\\n}\\n')"
   ]
  },
  {
   "cell_type": "code",
   "execution_count": 48,
   "id": "765f1356-bf6a-4085-88a3-031fa8ec369b",
   "metadata": {},
   "outputs": [
    {
     "name": "stdout",
     "output_type": "stream",
     "text": [
      "Invalid root id: 864691135687000000 (perhaps it doesn't exist; the error is unclear)\n"
     ]
    },
    {
     "data": {
      "text/markdown": [
       "# <font color='green'><b>TEST PASSED</b></font>"
      ],
      "text/plain": [
       "<IPython.core.display.Markdown object>"
      ]
     },
     "metadata": {},
     "output_type": "display_data"
    }
   ],
   "source": [
    "# %%time\n",
    "import requests\n",
    "\n",
    "try:\n",
    "    sk = skclient.get_skeleton(sample_invalid_node_rid, datastack_name, skeleton_version=skvn, output_format='dict', verbose_level=1)\n",
    "    test_failed()\n",
    "except ValueError as e:\n",
    "    print(e.args[0])\n",
    "    test(e.args[0] == 'Invalid root id: ' + str(sample_invalid_node_rid) + ' (perhaps it doesn\\'t exist; the error is unclear)')\n",
    "# except requests.HTTPError as e:\n",
    "#     print(e)\n",
    "#     test(e.response.text == '{\\n    \"Error\": \"Invalid root id: ' + str(sample_invalid_node_rid) + ' (perhaps it doesn\\'t exist; the error is unclear)\"\\n}\\n')"
   ]
  },
  {
   "cell_type": "code",
   "execution_count": 49,
   "id": "2867fd64-c472-4ccf-b18d-c3948fe147c7",
   "metadata": {},
   "outputs": [
    {
     "name": "stdout",
     "output_type": "stream",
     "text": [
      "Invalid root id: 88891049011371731 (perhaps this is an id corresponding to a different level of the PCG, e.g., a supervoxel id)\n"
     ]
    },
    {
     "data": {
      "text/markdown": [
       "# <font color='green'><b>TEST PASSED</b></font>"
      ],
      "text/plain": [
       "<IPython.core.display.Markdown object>"
      ]
     },
     "metadata": {},
     "output_type": "display_data"
    }
   ],
   "source": [
    "# %%time\n",
    "import requests\n",
    "\n",
    "try:\n",
    "    sk = skclient.get_skeleton(sample_supervoxel_rid, datastack_name, skeleton_version=skvn, output_format='dict', verbose_level=1)\n",
    "    test_failed()\n",
    "except ValueError as e:\n",
    "    print(e.args[0])\n",
    "    test(e.args[0] == 'Invalid root id: ' + str(sample_supervoxel_rid) + ' (perhaps this is an id corresponding to a different level of the PCG, e.g., a supervoxel id)')\n",
    "# except requests.HTTPError as e:\n",
    "#     print(e)\n",
    "#     test(e.response.text == '{\\n    \"Error\": \"Invalid root id: ' + str(sample_supervoxel_rid) + ' (perhaps this is an id corresponding to a different level of the PCG, e.g., a supervoxel id)\"\\n}\\n')"
   ]
  },
  {
   "cell_type": "markdown",
   "id": "85c32ef8-3fa3-4f85-9d86-f0da880d5def",
   "metadata": {},
   "source": [
    "# Skeleton request tests"
   ]
  },
  {
   "cell_type": "code",
   "execution_count": 50,
   "id": "cdff4130-3dab-4d7f-8c48-929e7ad82203",
   "metadata": {},
   "outputs": [
    {
     "name": "stdout",
     "output_type": "stream",
     "text": [
      "Elapsed time: 7.4s\n"
     ]
    },
    {
     "data": {
      "text/markdown": [
       "# <font color='green'><b>TEST PASSED</b></font>"
      ],
      "text/plain": [
       "<IPython.core.display.Markdown object>"
      ]
     },
     "metadata": {},
     "output_type": "display_data"
    },
    {
     "data": {
      "text/markdown": [
       "# <font color='green'><b>TEST PASSED</b></font>"
      ],
      "text/plain": [
       "<IPython.core.display.Markdown object>"
      ]
     },
     "metadata": {},
     "output_type": "display_data"
    },
    {
     "name": "stdout",
     "output_type": "stream",
     "text": [
      "CPU times: user 42.4 ms, sys: 8.82 ms, total: 51.2 ms\n",
      "Wall time: 7.4 s\n"
     ]
    }
   ],
   "source": [
    "%%time\n",
    "from timeit import default_timer\n",
    "\n",
    "start_time = default_timer()\n",
    "sk = skclient.get_skeleton(single_rid, datastack_name, skeleton_version=skvn, output_format='dict', verbose_level=1)\n",
    "elapsed_time = default_timer() - start_time\n",
    "print(f\"Elapsed time: {elapsed_time:>.1f}s\")\n",
    "# display(sk)\n",
    "test(sk is not None and isinstance(sk, dict))\n",
    "test(elapsed_time > 5 and elapsed_time < 90)"
   ]
  },
  {
   "cell_type": "code",
   "execution_count": 51,
   "id": "3c4ab7e1-fb0e-4c87-a4df-0dc18353ea56",
   "metadata": {},
   "outputs": [
    {
     "name": "stdout",
     "output_type": "stream",
     "text": [
      "Elapsed time: 2.0s\n"
     ]
    },
    {
     "data": {
      "text/markdown": [
       "# <font color='green'><b>TEST PASSED</b></font>"
      ],
      "text/plain": [
       "<IPython.core.display.Markdown object>"
      ]
     },
     "metadata": {},
     "output_type": "display_data"
    },
    {
     "data": {
      "text/markdown": [
       "# <font color='green'><b>TEST PASSED</b></font>"
      ],
      "text/plain": [
       "<IPython.core.display.Markdown object>"
      ]
     },
     "metadata": {},
     "output_type": "display_data"
    },
    {
     "name": "stdout",
     "output_type": "stream",
     "text": [
      "CPU times: user 34.6 ms, sys: 6.92 ms, total: 41.5 ms\n",
      "Wall time: 1.99 s\n"
     ]
    }
   ],
   "source": [
    "%%time\n",
    "start_time = default_timer()\n",
    "sk = skclient.get_skeleton(single_rid, datastack_name, skeleton_version=skvn, output_format='dict', verbose_level=1)\n",
    "elapsed_time = default_timer() - start_time\n",
    "print(f\"Elapsed time: {elapsed_time:>.1f}s\")\n",
    "# display(sk)\n",
    "test(sk is not None and isinstance(sk, dict))\n",
    "test(elapsed_time < 5)"
   ]
  },
  {
   "cell_type": "code",
   "execution_count": 52,
   "id": "911a4c69-3a8d-478e-9d2a-7a34fe85f306",
   "metadata": {},
   "outputs": [
    {
     "name": "stdout",
     "output_type": "stream",
     "text": [
      "Elapsed time: 1.9s\n"
     ]
    },
    {
     "data": {
      "text/markdown": [
       "# <font color='green'><b>TEST PASSED</b></font>"
      ],
      "text/plain": [
       "<IPython.core.display.Markdown object>"
      ]
     },
     "metadata": {},
     "output_type": "display_data"
    },
    {
     "data": {
      "text/markdown": [
       "# <font color='green'><b>TEST PASSED</b></font>"
      ],
      "text/plain": [
       "<IPython.core.display.Markdown object>"
      ]
     },
     "metadata": {},
     "output_type": "display_data"
    },
    {
     "name": "stdout",
     "output_type": "stream",
     "text": [
      "CPU times: user 27.2 ms, sys: 11.3 ms, total: 38.5 ms\n",
      "Wall time: 1.91 s\n"
     ]
    }
   ],
   "source": [
    "%%time\n",
    "import pandas as pd\n",
    "\n",
    "start_time = default_timer()\n",
    "sk = skclient.get_skeleton(single_rid, datastack_name, skeleton_version=skvn, output_format='swc', verbose_level=1)\n",
    "elapsed_time = default_timer() - start_time\n",
    "print(f\"Elapsed time: {elapsed_time:>.1f}s\")\n",
    "# display(sk)\n",
    "test(sk is not None and isinstance(sk, pd.DataFrame))\n",
    "test(elapsed_time < 5)"
   ]
  },
  {
   "cell_type": "markdown",
   "id": "e103af13-6ba2-42b7-9c90-d99a2d372f9c",
   "metadata": {},
   "source": [
    "### Inspect the cache after generating new skeletons"
   ]
  },
  {
   "cell_type": "code",
   "execution_count": 53,
   "id": "bbcba807-b2b3-44f9-ba8f-6fdd8933a76b",
   "metadata": {},
   "outputs": [
    {
     "name": "stdout",
     "output_type": "stream",
     "text": [
      "{\n",
      "    \"864691135463611454\": true,\n",
      "    \"864691135687456480\": false\n",
      "}\n"
     ]
    },
    {
     "data": {
      "text/markdown": [
       "# <font color='green'><b>TEST PASSED</b></font>"
      ],
      "text/plain": [
       "<IPython.core.display.Markdown object>"
      ]
     },
     "metadata": {},
     "output_type": "display_data"
    }
   ],
   "source": [
    "# %%time\n",
    "rids_exist = skclient.skeletons_exist(skeleton_version=skvn, root_ids=bulk_rids)\n",
    "print(json.dumps(rids_exist, indent=4))\n",
    "test(rids_exist == {\n",
    "    bulk_rids[0]: True,\n",
    "    bulk_rids[1]: False\n",
    "})"
   ]
  },
  {
   "cell_type": "code",
   "execution_count": 54,
   "id": "a0dcfecd-48cb-48bc-b913-cdb9afc6b955",
   "metadata": {},
   "outputs": [
    {
     "name": "stdout",
     "output_type": "stream",
     "text": [
      "{\n",
      "    \"num_found\": 1,\n",
      "    \"files\": [\n",
      "        \"skeleton__v4__rid-864691135463611454__ds-minnie65_phase3_v1__res-1x1x1__cs-True__cr-7500.h5.gz\"\n",
      "    ]\n",
      "}\n"
     ]
    },
    {
     "data": {
      "text/markdown": [
       "# <font color='green'><b>TEST PASSED</b></font>"
      ],
      "text/plain": [
       "<IPython.core.display.Markdown object>"
      ]
     },
     "metadata": {},
     "output_type": "display_data"
    }
   ],
   "source": [
    "# %%time\n",
    "import json\n",
    "cache_contents = skclient.get_cache_contents(skeleton_version=skvn, root_id_prefixes=bulk_rids)\n",
    "print(json.dumps(cache_contents, indent=4))\n",
    "test(cache_contents == {\n",
    "    \"num_found\": 1,\n",
    "    \"files\": [\n",
    "        f\"skeleton__v4__rid-{bulk_rids[0]}__ds-{datastack_name}__res-1x1x1__cs-True__cr-7500.h5.gz\"\n",
    "    ]\n",
    "})"
   ]
  },
  {
   "cell_type": "markdown",
   "id": "c96fb29b-d3ec-489a-b89f-66f4233bc28c",
   "metadata": {},
   "source": [
    "# Small bulk skeleton request tests\n",
    "## This routine truncates the request list to a small number (10 at the time of this writing), returns any skeletons that are available, and submits the rest to the asynchronous queue"
   ]
  },
  {
   "cell_type": "code",
   "execution_count": 55,
   "id": "9d6dbb03-e673-40ea-a63c-39d9f47388f9",
   "metadata": {},
   "outputs": [
    {
     "data": {
      "text/markdown": [
       "# <font color='green'><b>TEST PASSED</b></font>"
      ],
      "text/plain": [
       "<IPython.core.display.Markdown object>"
      ]
     },
     "metadata": {},
     "output_type": "display_data"
    }
   ],
   "source": [
    "# %%time\n",
    "result = skclient.get_bulk_skeletons(bulk_rids, skeleton_version=skvn, output_format='dict')\n",
    "# We can't assert both root ids but only one was generated by the previous tests above.\n",
    "# The other root id will be asyncronously triggered by this test but won't be available for 20-60 seconds afterwards.\n",
    "test(str(bulk_rids[0]) in result.keys())"
   ]
  },
  {
   "cell_type": "code",
   "execution_count": 56,
   "id": "c3722250-109c-41f8-a467-50c4e1d18c72",
   "metadata": {},
   "outputs": [
    {
     "data": {
      "text/markdown": [
       "# <font color='green'><b>TEST PASSED</b></font>"
      ],
      "text/plain": [
       "<IPython.core.display.Markdown object>"
      ]
     },
     "metadata": {},
     "output_type": "display_data"
    }
   ],
   "source": [
    "# %%time\n",
    "result = skclient.get_bulk_skeletons(bulk_rids, skeleton_version=skvn, output_format='dict', verbose_level=1)\n",
    "# We can't assert both root ids but only one was generated by the previous tests above.\n",
    "# The other root id will be asyncronously triggered by this test but won't be available for 20-60 seconds afterwards.\n",
    "test(str(bulk_rids[0]) in result.keys())"
   ]
  },
  {
   "cell_type": "code",
   "execution_count": 57,
   "id": "a1507161-214b-4672-9477-cd899014ced8",
   "metadata": {},
   "outputs": [
    {
     "data": {
      "text/markdown": [
       "# <font color='green'><b>TEST PASSED</b></font>"
      ],
      "text/plain": [
       "<IPython.core.display.Markdown object>"
      ]
     },
     "metadata": {},
     "output_type": "display_data"
    }
   ],
   "source": [
    "# %%time\n",
    "result = skclient.get_bulk_skeletons(larger_bulk_rids, skeleton_version=skvn, output_format='dict', verbose_level=1)\n",
    "# We can't assert both root ids but only one was generated by the previous tests above.\n",
    "# The other root id will be asyncronously triggered by this test but won't be available for 20-60 seconds afterwards.\n",
    "test(str(bulk_rids[0]) in result.keys())"
   ]
  },
  {
   "cell_type": "markdown",
   "id": "4ee4699b-4c06-4647-a2ba-3490e534e904",
   "metadata": {},
   "source": [
    "# Asynchronous bulk skeleton request tests\n",
    "## This routine submits a large number of requests and returns only the estimated time to complete the job; it doesn't return any skeletons.\n",
    "### The estimated job time depends on the number of parallel workers available on the server with each skeleton allocated 60s for estimation purposes.\n",
    "### For example, with 10 workers, 1–10 skeletons would take 60s, 11–20 skeletons would take 120s, etc.\n",
    "### At the time of this writing, all servers are configured to use 30 workers."
   ]
  },
  {
   "cell_type": "code",
   "execution_count": 58,
   "id": "c642f893-8603-47fb-820b-976f1090948c",
   "metadata": {},
   "outputs": [
    {
     "name": "stdout",
     "output_type": "stream",
     "text": [
      "<class 'float'> 60.0\n"
     ]
    },
    {
     "data": {
      "text/markdown": [
       "# <font color='green'><b>TEST PASSED</b></font>"
      ],
      "text/plain": [
       "<IPython.core.display.Markdown object>"
      ]
     },
     "metadata": {},
     "output_type": "display_data"
    }
   ],
   "source": [
    "# %%time\n",
    "result = skclient.generate_bulk_skeletons_async(bulk_rids, skeleton_version=skvn)\n",
    "print(type(result), result)\n",
    "test(result == 60.0)"
   ]
  },
  {
   "cell_type": "code",
   "execution_count": 59,
   "id": "4f5e94b7-5ebc-462c-99e7-ca932cc906bf",
   "metadata": {},
   "outputs": [
    {
     "name": "stdout",
     "output_type": "stream",
     "text": [
      "<class 'float'> 60.0\n"
     ]
    },
    {
     "data": {
      "text/markdown": [
       "# <font color='green'><b>TEST PASSED</b></font>"
      ],
      "text/plain": [
       "<IPython.core.display.Markdown object>"
      ]
     },
     "metadata": {},
     "output_type": "display_data"
    }
   ],
   "source": [
    "# %%time\n",
    "result = skclient.generate_bulk_skeletons_async(bulk_rids, skeleton_version=skvn, verbose_level=1)\n",
    "print(type(result), result)\n",
    "test(result == 60.0)"
   ]
  },
  {
   "cell_type": "code",
   "execution_count": 60,
   "id": "9e5c4c2b-0273-4677-952c-2fd0ffaaa1d7",
   "metadata": {},
   "outputs": [
    {
     "name": "stdout",
     "output_type": "stream",
     "text": [
      "<class 'float'> 60.0\n"
     ]
    },
    {
     "data": {
      "text/markdown": [
       "# <font color='green'><b>TEST PASSED</b></font>"
      ],
      "text/plain": [
       "<IPython.core.display.Markdown object>"
      ]
     },
     "metadata": {},
     "output_type": "display_data"
    }
   ],
   "source": [
    "# %%time\n",
    "result = skclient.generate_bulk_skeletons_async(larger_bulk_rids, skeleton_version=skvn, verbose_level=1)\n",
    "print(type(result), result)\n",
    "test(result == 60.0)"
   ]
  },
  {
   "cell_type": "markdown",
   "id": "ce6cc249-b7f1-42e9-86f9-bf14fed9c962",
   "metadata": {},
   "source": [
    "## Meshwork tests\n",
    "### At the current time, I implemented meshwork generation and caching, but then removed it at the suggestion of other team members, saving the code for possible future use. Consequently, the meshwork routines can't be tested until the code is added back at some later time, and therefore, the following tests are currently disabled."
   ]
  },
  {
   "cell_type": "code",
   "execution_count": 61,
   "id": "2e9334cd-a2b2-47c6-aada-3d390f31edba",
   "metadata": {},
   "outputs": [],
   "source": [
    "RUN_MESHWORK_TESTS = False"
   ]
  },
  {
   "cell_type": "code",
   "execution_count": 62,
   "id": "b2b1790a-f43a-4c99-ae50-100cf776d2da",
   "metadata": {},
   "outputs": [
    {
     "name": "stdout",
     "output_type": "stream",
     "text": [
      "CPU times: user 7 µs, sys: 0 ns, total: 7 µs\n",
      "Wall time: 9.06 µs\n"
     ]
    }
   ],
   "source": [
    "%%time\n",
    "from io import BytesIO\n",
    "\n",
    "if RUN_MESHWORK_TESTS:\n",
    "    import pcg_skel\n",
    "    \n",
    "    mw_bytes = skclient.get_meshwork(single_rid, datastack_name, verbose_level=1)\n",
    "    print(len(mw_bytes))\n",
    "    nrn = pcg_skel.meshwork.load_meshwork(BytesIO(mw_bytes))\n",
    "    print(nrn)\n",
    "    print(len(nrn.vertices), len(nrn.edges), len(nrn.anno['pre_syn']), len(nrn.anno['post_syn']))\n",
    "    print(nrn.distance_to_root(nrn.anno.post_syn.mesh_index) / 1000)\n",
    "\n",
    "    print(\"This test doesn't appear to be fully implemented yet, as it doesn't contain an assertion clause.\")\n",
    "    \n",
    "    test_passed()"
   ]
  },
  {
   "cell_type": "code",
   "execution_count": 63,
   "id": "e23f188b-7483-4221-bb91-d8b19fa519df",
   "metadata": {},
   "outputs": [
    {
     "name": "stdout",
     "output_type": "stream",
     "text": [
      "CPU times: user 2 µs, sys: 0 ns, total: 2 µs\n",
      "Wall time: 4.05 µs\n"
     ]
    }
   ],
   "source": [
    "%%time\n",
    "if RUN_MESHWORK_TESTS:\n",
    "    estimated_time = skclient.generate_bulk_meshworks_async(bulk_rids, datastack_name, verbose_level=1)\n",
    "    print(type(result), result)\n",
    "    assert result == 60.0\n",
    "    test_passed()"
   ]
  },
  {
   "cell_type": "code",
   "execution_count": null,
   "id": "aff1c60d-e907-44ff-9f17-337ada49a950",
   "metadata": {},
   "outputs": [],
   "source": []
  }
 ],
 "metadata": {
  "kernelspec": {
   "display_name": "work_env3",
   "language": "python",
   "name": "work_env3"
  },
  "language_info": {
   "codemirror_mode": {
    "name": "ipython",
    "version": 3
   },
   "file_extension": ".py",
   "mimetype": "text/x-python",
   "name": "python",
   "nbconvert_exporter": "python",
   "pygments_lexer": "ipython3",
   "version": "3.9.6"
  }
 },
 "nbformat": 4,
 "nbformat_minor": 5
}
