{
 "cells": [
  {
   "cell_type": "code",
   "execution_count": 6,
   "id": "23603652-da9d-4b89-8670-e5a8b846cdd7",
   "metadata": {},
   "outputs": [
    {
     "data": {
      "text/html": [
       "<style>:root { --jp-notebook-max-width: 100% !important; }</style>"
      ],
      "text/plain": [
       "<IPython.core.display.HTML object>"
      ]
     },
     "metadata": {},
     "output_type": "display_data"
    }
   ],
   "source": [
    "from IPython.display import display, HTML\n",
    "display(HTML(\"<style>:root { --jp-notebook-max-width: 100% !important; }</style>\"))"
   ]
  },
  {
   "cell_type": "code",
   "execution_count": 7,
   "id": "5168b3e2-d6ba-42f3-bccd-a4f22e19da79",
   "metadata": {},
   "outputs": [],
   "source": [
    "import urllib3\n",
    "urllib3.disable_warnings(urllib3.exceptions.InsecureRequestWarning)\n",
    "\n",
    "import logging\n",
    "logger = logging.getLogger()\n",
    "logger.setLevel(logging.INFO)"
   ]
  },
  {
   "cell_type": "markdown",
   "id": "d6763f25-6f4e-408c-8918-6fc811f27972",
   "metadata": {},
   "source": [
    "# Set things up"
   ]
  },
  {
   "cell_type": "code",
   "execution_count": 4,
   "id": "91d27e65-ff56-4112-998d-481e0145da9f",
   "metadata": {},
   "outputs": [],
   "source": [
    "import caveclient as cc\n",
    "import importlib.metadata\n",
    "\n",
    "print(f\"CAVEclient version: v{cc.__version__} , v{importlib.metadata.version('CAVEclient')}\")\n",
    "\n",
    "datastack_name = \"minnie65_phase3_v1\"\n",
    "\n",
    "client = cc.CAVEclient(datastack_name)\n",
    "client.materialize.version = 1078"
   ]
  },
  {
   "cell_type": "markdown",
   "id": "18ba4dd9-9391-473e-91c0-fc9543672b33",
   "metadata": {},
   "source": [
    "## Pick a test server:\n",
    "* **localhost:5000 — Test SkeletonService on the local machine, say via the VS Code Debugger**\n",
    "* **ltv5 — The SkeletonService on the test cluster**\n",
    "* **minniev6 — Test SkeletonService \"in the wild\"**"
   ]
  },
  {
   "cell_type": "code",
   "execution_count": 24,
   "id": "e11233c0-c130-42ad-aad9-c8fd1e016f1b",
   "metadata": {},
   "outputs": [],
   "source": [
    "# server_address = \"https://localhost:5000\"\n",
    "server_address = \"https://ltv5.microns-daf.com\"\n",
    "# server_address = \"https://minniev6.microns-daf.com\"\n",
    "\n",
    "skclient = cc.skeletonservice.SkeletonClient(server_address, datastack_name, over_client=client, verify=False)"
   ]
  },
  {
   "cell_type": "code",
   "execution_count": 6,
   "id": "dacfb697-252d-4d12-b2dc-1d5440f49c03",
   "metadata": {},
   "outputs": [],
   "source": [
    "bulk_rids = [864691135463611454, 864691135687456480]\n",
    "single_rid = bulk_rids[0]\n",
    "sample_refusal_list_rid = 11223344556677889900\n",
    "sample_invalid_node_rid = 864691135687000000\n",
    "sample_supervoxel_rid = 88891049011371731\n",
    "skvn = 4"
   ]
  },
  {
   "cell_type": "markdown",
   "id": "5319b82d-f9bf-46a7-b9c5-75ea0e4c0c8d",
   "metadata": {},
   "source": [
    "# Delete the test rid files from the bucket so we can test regenerating them from scratch"
   ]
  },
  {
   "cell_type": "code",
   "execution_count": 43,
   "id": "65454317-270d-4f72-94f8-8e405cc27955",
   "metadata": {},
   "outputs": [
    {
     "name": "stdout",
     "output_type": "stream",
     "text": [
      "skeleton__v4__rid-864691135397503777__ds-minnie65_phase3_v1__res-1x1x1__cs-True__cr-7500.h5.gz\n",
      "True\n",
      "skeleton__v4__rid-864691135397503777__ds-minnie65_phase3_v1__res-1x1x1__cs-True__cr-7500.flatdict.gz\n",
      "True\n",
      "skeleton__v4__rid-864691135397503777__ds-minnie65_phase3_v1__res-1x1x1__cs-True__cr-7500.swccompressed.gz\n",
      "True\n",
      "skeleton__v4__rid-864691135687456480__ds-minnie65_phase3_v1__res-1x1x1__cs-True__cr-7500.h5.gz\n",
      "True\n",
      "skeleton__v4__rid-864691135687456480__ds-minnie65_phase3_v1__res-1x1x1__cs-True__cr-7500.flatdict.gz\n",
      "False\n",
      "skeleton__v4__rid-864691135687456480__ds-minnie65_phase3_v1__res-1x1x1__cs-True__cr-7500.swccompressed.gz\n",
      "False\n"
     ]
    }
   ],
   "source": [
    "from cloudfiles import CloudFiles\n",
    "\n",
    "bucket = None\n",
    "if \"localhost\" in server_address or \"ltv\" in server_address:\n",
    "    bucket = f\"gs://minnie65_skeletons/ltv/{skvn}\"\n",
    "elif \"minnie\" in server_address:\n",
    "    bucket = f\"gs://minnie65_skeletons/{skvn}\"\n",
    "print(f\"Testing bucket: {bucket}\")\n",
    "\n",
    "cf = CloudFiles(bucket)\n",
    "for rid in bulk_rids:\n",
    "    for output_format in [\"h5\", \"flatdict\", \"swccompressed\"]:\n",
    "        filename = f\"skeleton__v{skvn}__rid-{rid}__ds-{datastack_name}__res-1x1x1__cs-True__cr-7500.{output_format}.gz\"\n",
    "        print(filename)\n",
    "        print(cf.exists(filename))"
   ]
  },
  {
   "cell_type": "code",
   "execution_count": 44,
   "id": "6e5285d7-3c3b-4012-bc5d-1ed50aef9dc0",
   "metadata": {},
   "outputs": [
    {
     "name": "stdout",
     "output_type": "stream",
     "text": [
      "skeleton__v4__rid-864691135397503777__ds-minnie65_phase3_v1__res-1x1x1__cs-True__cr-7500.h5.gz\n",
      "True\n",
      "False\n",
      "skeleton__v4__rid-864691135397503777__ds-minnie65_phase3_v1__res-1x1x1__cs-True__cr-7500.flatdict.gz\n",
      "True\n",
      "False\n",
      "skeleton__v4__rid-864691135397503777__ds-minnie65_phase3_v1__res-1x1x1__cs-True__cr-7500.swccompressed.gz\n",
      "True\n",
      "False\n",
      "skeleton__v4__rid-864691135687456480__ds-minnie65_phase3_v1__res-1x1x1__cs-True__cr-7500.h5.gz\n",
      "True\n",
      "False\n",
      "skeleton__v4__rid-864691135687456480__ds-minnie65_phase3_v1__res-1x1x1__cs-True__cr-7500.flatdict.gz\n",
      "False\n",
      "False\n",
      "skeleton__v4__rid-864691135687456480__ds-minnie65_phase3_v1__res-1x1x1__cs-True__cr-7500.swccompressed.gz\n",
      "False\n",
      "False\n"
     ]
    }
   ],
   "source": [
    "from cloudfiles import CloudFiles\n",
    "\n",
    "cf = CloudFiles(bucket)\n",
    "for rid in bulk_rids:\n",
    "    for output_format in [\"h5\", \"flatdict\", \"swccompressed\"]:\n",
    "        filename = f\"skeleton__v{skvn}__rid-{rid}__ds-{datastack_name}__res-1x1x1__cs-True__cr-7500.{output_format}.gz\"\n",
    "        print(filename)\n",
    "        print(cf.exists(filename))\n",
    "        cf.delete(filename)\n",
    "        print(cf.exists(filename))"
   ]
  },
  {
   "cell_type": "markdown",
   "id": "2f8d0a85-13dd-42ea-9d4c-a70326ba54ee",
   "metadata": {},
   "source": [
    "## Metadata tests"
   ]
  },
  {
   "cell_type": "code",
   "execution_count": 41,
   "id": "6b29920c-d179-4ffe-87d4-4d6d0286fe2f",
   "metadata": {},
   "outputs": [
    {
     "name": "stdout",
     "output_type": "stream",
     "text": [
      "{'@type': 'neuroglancer_skeletons', 'transform': [1, 0, 0, 0, 0, 1, 0, 0, 0, 0, 1, 0], 'vertex_attributes': [{'id': 'radius', 'data_type': 'float32', 'num_components': 1}, {'id': 'compartment', 'data_type': 'uint8', 'num_components': 1}]}\n"
     ]
    }
   ],
   "source": [
    "# %%time\n",
    "precomputed_skeleton_info = skclient.get_precomputed_skeleton_info(skvn=skvn)\n",
    "print(precomputed_skeleton_info)\n",
    "assert precomputed_skeleton_info == {\n",
    "    '@type': 'neuroglancer_skeletons',\n",
    "    'transform': [1, 0, 0, 0, 0, 1, 0, 0, 0, 0, 1, 0],\n",
    "    'vertex_attributes': [\n",
    "        {'id': 'radius', 'data_type': 'float32', 'num_components': 1},\n",
    "        {'id': 'compartment', 'data_type': 'uint8', 'num_components': 1}\n",
    "    ]\n",
    "}\n",
    "print(\"TEST PASSED\")"
   ]
  },
  {
   "cell_type": "code",
   "execution_count": 45,
   "id": "b4c2fc01-5ad0-4d10-8d4d-9a858be2ac1b",
   "metadata": {},
   "outputs": [
    {
     "name": "stderr",
     "output_type": "stream",
     "text": [
      "INFO:root:get_versions()\n",
      "INFO:root:endpoint: {skeleton_server_address}/skeletoncache/api/versions\n",
      "INFO:root:url: https://ltv5.microns-daf.com/skeletoncache/api/versions\n",
      "INFO:root:response: <Response [200]>\n",
      "INFO:root:versions: <class 'list'> [-1, 0, 1, 2, 3, 4]\n"
     ]
    },
    {
     "name": "stdout",
     "output_type": "stream",
     "text": [
      "{\n",
      "    \"864691135397503777\": false,\n",
      "    \"864691135687456480\": false\n",
      "}\n"
     ]
    }
   ],
   "source": [
    "import json\n",
    "\n",
    "rids_exist = skclient.skeletons_exist(skeleton_version=skvn, root_ids=bulk_rids)\n",
    "print(json.dumps(rids_exist, indent=4))\n",
    "assert rids_exist == {\n",
    "    bulk_rids[0]: False,\n",
    "    bulk_rids[1]: False\n",
    "}\n",
    "print(\"TEST PASSED\")\n",
    "\n",
    "rids_exist = skclient.skeletons_exist(skeleton_version=skvn, root_ids=bulk_rids, log_warning=False)\n",
    "print(json.dumps(rids_exist, indent=4))\n",
    "assert rids_exist == {\n",
    "    bulk_rids[0]: False,\n",
    "    bulk_rids[1]: False\n",
    "}\n",
    "print(\"TEST PASSED\")\n",
    "\n",
    "rids_exist = skclient.skeletons_exist(skeleton_version=skvn, root_ids=bulk_rids, verbose_level=1)\n",
    "print(json.dumps(rids_exist, indent=4))\n",
    "assert rids_exist == {\n",
    "    bulk_rids[0]: False,\n",
    "    bulk_rids[1]: False\n",
    "}\n",
    "print(\"TEST PASSED\")"
   ]
  },
  {
   "cell_type": "code",
   "execution_count": null,
   "id": "20c23b13-c509-4bc1-a706-e0e5db791823",
   "metadata": {},
   "outputs": [],
   "source": [
    "import json\n",
    "\n",
    "cache_contents = skclient.get_cache_contents(skeleton_version=skvn, root_id_prefixes=bulk_rids)\n",
    "print(json.dumps(cache_contents, indent=4))\n",
    "assert cache_contents == {\n",
    "    \"num_found\": 0,\n",
    "    \"files\": []\n",
    "}\n",
    "print(\"TEST PASSED\")\n",
    "\n",
    "cache_contents = skclient.get_cache_contents(skeleton_version=skvn, root_id_prefixes=bulk_rids, log_warning=False)\n",
    "print(json.dumps(cache_contents, indent=4))\n",
    "assert cache_contents == {\n",
    "    \"num_found\": 0,\n",
    "    \"files\": []\n",
    "}\n",
    "print(\"TEST PASSED\")\n",
    "\n",
    "cache_contents = skclient.get_cache_contents(skeleton_version=skvn, root_id_prefixes=bulk_rids, verbose_level=1)\n",
    "print(json.dumps(cache_contents, indent=4))\n",
    "assert cache_contents == {\n",
    "    \"num_found\": 0,\n",
    "    \"files\": []\n",
    "}\n",
    "print(\"TEST PASSED\")"
   ]
  },
  {
   "cell_type": "markdown",
   "id": "079f4aff-7244-4df5-946d-a199d8194d4b",
   "metadata": {},
   "source": [
    "# Invalid skeleton request tests"
   ]
  },
  {
   "cell_type": "code",
   "execution_count": 3,
   "id": "ad6a7abc-3fb5-4b7c-86e0-da1d136998e7",
   "metadata": {},
   "outputs": [
    {
     "name": "stderr",
     "output_type": "stream",
     "text": [
      "/Users/keith.wiley/virtual_envs/work_env3/lib/python3.9/site-packages/urllib3/__init__.py:35: NotOpenSSLWarning: urllib3 v2 only supports OpenSSL 1.1.1+, currently the 'ssl' module is compiled with 'LibreSSL 2.8.3'. See: https://github.com/urllib3/urllib3/issues/3020\n",
      "  warnings.warn(\n"
     ]
    },
    {
     "ename": "NameError",
     "evalue": "name 'skclient' is not defined",
     "output_type": "error",
     "traceback": [
      "\u001b[0;31m---------------------------------------------------------------------------\u001b[0m",
      "\u001b[0;31mNameError\u001b[0m                                 Traceback (most recent call last)",
      "Cell \u001b[0;32mIn[3], line 6\u001b[0m\n\u001b[1;32m      4\u001b[0m err \u001b[38;5;241m=\u001b[39m \u001b[38;5;28;01mNone\u001b[39;00m\n\u001b[1;32m      5\u001b[0m \u001b[38;5;28;01mtry\u001b[39;00m:\n\u001b[0;32m----> 6\u001b[0m     sk \u001b[38;5;241m=\u001b[39m \u001b[43mskclient\u001b[49m\u001b[38;5;241m.\u001b[39mget_skeleton(sample_refusal_list_rid, \u001b[38;5;124m\"\u001b[39m\u001b[38;5;124mminnie65_phase3_v1\u001b[39m\u001b[38;5;124m\"\u001b[39m, skeleton_version\u001b[38;5;241m=\u001b[39mskvn, output_format\u001b[38;5;241m=\u001b[39m\u001b[38;5;124m'\u001b[39m\u001b[38;5;124mdict\u001b[39m\u001b[38;5;124m'\u001b[39m, verbose_level\u001b[38;5;241m=\u001b[39m\u001b[38;5;241m1\u001b[39m)\n\u001b[1;32m      7\u001b[0m \u001b[38;5;28;01mexcept\u001b[39;00m requests\u001b[38;5;241m.\u001b[39mHTTPError \u001b[38;5;28;01mas\u001b[39;00m e:\n\u001b[1;32m      8\u001b[0m     \u001b[38;5;28mprint\u001b[39m(e)\n",
      "\u001b[0;31mNameError\u001b[0m: name 'skclient' is not defined"
     ]
    }
   ],
   "source": [
    "# %%time\n",
    "import requests\n",
    "\n",
    "err = None\n",
    "try:\n",
    "    sk = skclient.get_skeleton(sample_refusal_list_rid, datastack_name, skeleton_version=skvn, output_format='dict', verbose_level=1)\n",
    "except requests.HTTPError as e:\n",
    "    print(e)\n",
    "    assert e.response.text == '{\\n    \"Error\": \"Problematic root id: ' + str(sample_refusal_list_rid) + ' is in the refusal list\"\\n}\\n'\n",
    "print(\"TEST PASSED\")\n",
    "\n",
    "err = None\n",
    "try:\n",
    "    sk = skclient.get_skeleton(sample_invalid_node_rid, datastack_name, skeleton_version=skvn, output_format='dict', verbose_level=1)\n",
    "except requests.HTTPError as e:\n",
    "    print(e)\n",
    "    assert e.response.text == '{\\n    \"Error\": \"Invalid root id: ' + str(sample_invalid_node_rid) + ' (perhaps it doesn\\'t exist; the error is unclear)\"\\n}\\n'\n",
    "print(\"TEST PASSED\")\n",
    "\n",
    "err = None\n",
    "try:\n",
    "    sk = skclient.get_skeleton(sample_supervoxel_rid, datastack_name, skeleton_version=skvn, output_format='dict', verbose_level=1)\n",
    "except requests.HTTPError as e:\n",
    "    print(e)\n",
    "    assert e.response.text == '{\\n    \"Error\": \"Invalid root id: ' + str(sample_supervoxel_rid) + ' (perhaps this is an id corresponding to a different level of the PCG, e.g., a supervoxel id)\"\\n}\\n'\n",
    "print(\"TEST PASSED\")"
   ]
  },
  {
   "cell_type": "markdown",
   "id": "17374094",
   "metadata": {},
   "source": [
    "# Skeleton request tests"
   ]
  },
  {
   "cell_type": "code",
   "execution_count": null,
   "id": "3d940db1",
   "metadata": {},
   "outputs": [],
   "source": [
    "%%time\n",
    "sk = skclient.get_skeleton(single_rid, datastack_name, skeleton_version=skvn, output_format='dict')\n",
    "# display(sk)\n",
    "assert sk is not None and isinstance(sk, dict)\n",
    "print(\"TEST PASSED\")"
   ]
  },
  {
   "cell_type": "code",
   "execution_count": 32,
   "id": "3c4ab7e1-fb0e-4c87-a4df-0dc18353ea56",
   "metadata": {
    "scrolled": true
   },
   "outputs": [
    {
     "name": "stderr",
     "output_type": "stream",
     "text": [
      "INFO:root:get_versions()\n",
      "INFO:root:endpoint: {skeleton_server_address}/skeletoncache/api/versions\n",
      "INFO:root:url: https://ltv5.microns-daf.com/skeletoncache/api/versions\n",
      "INFO:root:response: <Response [200]>\n",
      "INFO:root:versions: <class 'list'> [-1, 0, 1, 2, 3, 4]\n",
      "INFO:root:SkeletonService version: 0.17.0\n",
      "INFO:root:get_skeleton() response contains content of size 229266 bytes\n"
     ]
    },
    {
     "data": {
      "text/plain": [
       "{'meta': {'root_id': 864691135397503777,\n",
       "  'soma_pt_x': 733312.0,\n",
       "  'soma_pt_y': 433600.0,\n",
       "  'soma_pt_z': 842280.0,\n",
       "  'soma_radius': 7500,\n",
       "  'collapse_soma': True,\n",
       "  'collapse_function': 'sphere',\n",
       "  'invalidation_d': 7500,\n",
       "  'smooth_vertices': False,\n",
       "  'compute_radius': False,\n",
       "  'shape_function': 'single',\n",
       "  'smooth_iterations': 12,\n",
       "  'smooth_neighborhood': 2,\n",
       "  'smooth_r': 0.1,\n",
       "  'cc_vertex_thresh': 0,\n",
       "  'remove_zero_length_edges': True,\n",
       "  'collapse_params': {},\n",
       "  'timestamp': 1741387327.3296018,\n",
       "  'skeleton_type': 'pcg_skel',\n",
       "  'meta': {'datastack': 'minnie65_phase3_v1', 'space': 'l2cache'},\n",
       "  'sk_dict_structure_version': 4,\n",
       "  'skeleton_version': 4},\n",
       " 'edges': array([[3398, 3319],\n",
       "        [3319, 3323],\n",
       "        [3323, 3230],\n",
       "        ...,\n",
       "        [7113, 7110],\n",
       "        [7110, 7106],\n",
       "        [7106, 7107]]),\n",
       " 'mesh_to_skel_map': array([   2,    0,    1, ..., 7470, 7472, 7473]),\n",
       " 'root': 7474,\n",
       " 'vertices': array([[ 482568.,  440648., 1002120.],\n",
       "        [ 483456.,  440800., 1003600.],\n",
       "        [ 483368.,  442352.,  998480.],\n",
       "        ...,\n",
       "        [1463296.,  741552.,  610320.],\n",
       "        [1465080.,  741712.,  608480.],\n",
       "        [ 733312.,  433600.,  842280.]]),\n",
       " 'compartment': array([2, 2, 2, ..., 2, 2, 1]),\n",
       " 'radius': array([ 156.71508369,  156.71508369,  156.71508369, ...,  167.62074002,\n",
       "         167.62074002, 5850.98790866]),\n",
       " 'lvl2_ids': array([153410460652143363, 153410460652143498, 153410460719251497, ...,\n",
       "        187127189601255923, 187127189601256191, 187197558345433445])}"
      ]
     },
     "metadata": {},
     "output_type": "display_data"
    },
    {
     "name": "stdout",
     "output_type": "stream",
     "text": [
      "CPU times: user 61.5 ms, sys: 31 ms, total: 92.6 ms\n",
      "Wall time: 32.3 s\n"
     ]
    }
   ],
   "source": [
    "%%time\n",
    "sk = skclient.get_skeleton(single_rid, datastack_name, skeleton_version=skvn, output_format='dict', verbose_level=1)\n",
    "# display(sk)\n",
    "assert sk is not None and isinstance(sk, dict)\n",
    "print(\"TEST PASSED\")"
   ]
  },
  {
   "cell_type": "code",
   "execution_count": 33,
   "id": "911a4c69-3a8d-478e-9d2a-7a34fe85f306",
   "metadata": {},
   "outputs": [
    {
     "name": "stderr",
     "output_type": "stream",
     "text": [
      "INFO:root:get_versions()\n",
      "INFO:root:endpoint: {skeleton_server_address}/skeletoncache/api/versions\n",
      "INFO:root:url: https://ltv5.microns-daf.com/skeletoncache/api/versions\n",
      "INFO:root:response: <Response [200]>\n",
      "INFO:root:versions: <class 'list'> [-1, 0, 1, 2, 3, 4]\n",
      "INFO:root:SkeletonService version: 0.17.0\n",
      "INFO:root:get_skeleton() response contains content of size 108748 bytes\n"
     ]
    },
    {
     "data": {
      "text/html": [
       "<div>\n",
       "<style scoped>\n",
       "    .dataframe tbody tr th:only-of-type {\n",
       "        vertical-align: middle;\n",
       "    }\n",
       "\n",
       "    .dataframe tbody tr th {\n",
       "        vertical-align: top;\n",
       "    }\n",
       "\n",
       "    .dataframe thead th {\n",
       "        text-align: right;\n",
       "    }\n",
       "</style>\n",
       "<table border=\"1\" class=\"dataframe\">\n",
       "  <thead>\n",
       "    <tr style=\"text-align: right;\">\n",
       "      <th></th>\n",
       "      <th>id</th>\n",
       "      <th>type</th>\n",
       "      <th>x</th>\n",
       "      <th>y</th>\n",
       "      <th>z</th>\n",
       "      <th>radius</th>\n",
       "      <th>parent</th>\n",
       "    </tr>\n",
       "  </thead>\n",
       "  <tbody>\n",
       "    <tr>\n",
       "      <th>0</th>\n",
       "      <td>0</td>\n",
       "      <td>1</td>\n",
       "      <td>733.312</td>\n",
       "      <td>433.600</td>\n",
       "      <td>842.28</td>\n",
       "      <td>5.851</td>\n",
       "      <td>-1</td>\n",
       "    </tr>\n",
       "    <tr>\n",
       "      <th>1</th>\n",
       "      <td>1</td>\n",
       "      <td>2</td>\n",
       "      <td>732.576</td>\n",
       "      <td>442.016</td>\n",
       "      <td>851.56</td>\n",
       "      <td>0.227</td>\n",
       "      <td>0</td>\n",
       "    </tr>\n",
       "    <tr>\n",
       "      <th>2</th>\n",
       "      <td>2</td>\n",
       "      <td>2</td>\n",
       "      <td>733.024</td>\n",
       "      <td>444.072</td>\n",
       "      <td>852.32</td>\n",
       "      <td>0.227</td>\n",
       "      <td>1</td>\n",
       "    </tr>\n",
       "    <tr>\n",
       "      <th>3</th>\n",
       "      <td>3</td>\n",
       "      <td>2</td>\n",
       "      <td>733.312</td>\n",
       "      <td>446.032</td>\n",
       "      <td>852.64</td>\n",
       "      <td>0.227</td>\n",
       "      <td>2</td>\n",
       "    </tr>\n",
       "    <tr>\n",
       "      <th>4</th>\n",
       "      <td>4</td>\n",
       "      <td>2</td>\n",
       "      <td>733.320</td>\n",
       "      <td>446.408</td>\n",
       "      <td>852.76</td>\n",
       "      <td>0.227</td>\n",
       "      <td>3</td>\n",
       "    </tr>\n",
       "    <tr>\n",
       "      <th>...</th>\n",
       "      <td>...</td>\n",
       "      <td>...</td>\n",
       "      <td>...</td>\n",
       "      <td>...</td>\n",
       "      <td>...</td>\n",
       "      <td>...</td>\n",
       "      <td>...</td>\n",
       "    </tr>\n",
       "    <tr>\n",
       "      <th>7470</th>\n",
       "      <td>7470</td>\n",
       "      <td>3</td>\n",
       "      <td>732.288</td>\n",
       "      <td>429.120</td>\n",
       "      <td>838.92</td>\n",
       "      <td>1.424</td>\n",
       "      <td>7469</td>\n",
       "    </tr>\n",
       "    <tr>\n",
       "      <th>7471</th>\n",
       "      <td>7471</td>\n",
       "      <td>3</td>\n",
       "      <td>734.416</td>\n",
       "      <td>429.304</td>\n",
       "      <td>838.08</td>\n",
       "      <td>1.424</td>\n",
       "      <td>7470</td>\n",
       "    </tr>\n",
       "    <tr>\n",
       "      <th>7472</th>\n",
       "      <td>7472</td>\n",
       "      <td>3</td>\n",
       "      <td>735.576</td>\n",
       "      <td>428.920</td>\n",
       "      <td>837.60</td>\n",
       "      <td>1.424</td>\n",
       "      <td>7471</td>\n",
       "    </tr>\n",
       "    <tr>\n",
       "      <th>7473</th>\n",
       "      <td>7473</td>\n",
       "      <td>3</td>\n",
       "      <td>736.368</td>\n",
       "      <td>428.432</td>\n",
       "      <td>837.08</td>\n",
       "      <td>1.424</td>\n",
       "      <td>7472</td>\n",
       "    </tr>\n",
       "    <tr>\n",
       "      <th>7474</th>\n",
       "      <td>7474</td>\n",
       "      <td>3</td>\n",
       "      <td>735.912</td>\n",
       "      <td>428.832</td>\n",
       "      <td>837.32</td>\n",
       "      <td>1.424</td>\n",
       "      <td>7473</td>\n",
       "    </tr>\n",
       "  </tbody>\n",
       "</table>\n",
       "<p>7475 rows × 7 columns</p>\n",
       "</div>"
      ],
      "text/plain": [
       "        id  type        x        y       z  radius  parent\n",
       "0        0     1  733.312  433.600  842.28   5.851      -1\n",
       "1        1     2  732.576  442.016  851.56   0.227       0\n",
       "2        2     2  733.024  444.072  852.32   0.227       1\n",
       "3        3     2  733.312  446.032  852.64   0.227       2\n",
       "4        4     2  733.320  446.408  852.76   0.227       3\n",
       "...    ...   ...      ...      ...     ...     ...     ...\n",
       "7470  7470     3  732.288  429.120  838.92   1.424    7469\n",
       "7471  7471     3  734.416  429.304  838.08   1.424    7470\n",
       "7472  7472     3  735.576  428.920  837.60   1.424    7471\n",
       "7473  7473     3  736.368  428.432  837.08   1.424    7472\n",
       "7474  7474     3  735.912  428.832  837.32   1.424    7473\n",
       "\n",
       "[7475 rows x 7 columns]"
      ]
     },
     "metadata": {},
     "output_type": "display_data"
    },
    {
     "name": "stdout",
     "output_type": "stream",
     "text": [
      "CPU times: user 37.6 ms, sys: 18 ms, total: 55.7 ms\n",
      "Wall time: 1.47 s\n"
     ]
    }
   ],
   "source": [
    "%%time\n",
    "import pandas as pd\n",
    "\n",
    "sk = skclient.get_skeleton(single_rid, datastack_name, skeleton_version=skvn, output_format='swc', verbose_level=1)\n",
    "# display(sk)\n",
    "assert sk is not None and isinstance(sk, pd.DataFrame)\n",
    "print(\"TEST PASSED\")"
   ]
  },
  {
   "cell_type": "markdown",
   "id": "cbae3297",
   "metadata": {},
   "source": [
    "### Inspect the cache after generating new skeletons"
   ]
  },
  {
   "cell_type": "code",
   "execution_count": 47,
   "id": "bbcba807-b2b3-44f9-ba8f-6fdd8933a76b",
   "metadata": {},
   "outputs": [
    {
     "name": "stderr",
     "output_type": "stream",
     "text": [
      "INFO:root:get_versions()\n",
      "INFO:root:endpoint: {skeleton_server_address}/skeletoncache/api/versions\n",
      "INFO:root:url: https://ltv5.microns-daf.com/skeletoncache/api/versions\n",
      "INFO:root:response: <Response [200]>\n",
      "INFO:root:versions: <class 'list'> [-1, 0, 1, 2, 3, 4]\n"
     ]
    },
    {
     "name": "stdout",
     "output_type": "stream",
     "text": [
      "{\n",
      "    \"864691135397503777\": false,\n",
      "    \"864691135687456480\": false\n",
      "}\n"
     ]
    },
    {
     "ename": "AssertionError",
     "evalue": "",
     "output_type": "error",
     "traceback": [
      "\u001b[0;31m---------------------------------------------------------------------------\u001b[0m",
      "\u001b[0;31mAssertionError\u001b[0m                            Traceback (most recent call last)",
      "Cell \u001b[0;32mIn[47], line 4\u001b[0m\n\u001b[1;32m      2\u001b[0m rids_exist \u001b[38;5;241m=\u001b[39m skclient\u001b[38;5;241m.\u001b[39mskeletons_exist(skeleton_version\u001b[38;5;241m=\u001b[39mskvn, root_ids\u001b[38;5;241m=\u001b[39mbulk_rids)\n\u001b[1;32m      3\u001b[0m \u001b[38;5;28mprint\u001b[39m(json\u001b[38;5;241m.\u001b[39mdumps(rids_exist, indent\u001b[38;5;241m=\u001b[39m\u001b[38;5;241m4\u001b[39m))\n\u001b[0;32m----> 4\u001b[0m \u001b[38;5;28;01massert\u001b[39;00m rids_exist \u001b[38;5;241m==\u001b[39m {\n\u001b[1;32m      5\u001b[0m     \u001b[38;5;241m864691135397503777\u001b[39m: \u001b[38;5;28;01mTrue\u001b[39;00m,\n\u001b[1;32m      6\u001b[0m     \u001b[38;5;241m864691135687456480\u001b[39m: \u001b[38;5;28;01mFalse\u001b[39;00m\n\u001b[1;32m      7\u001b[0m }\n",
      "\u001b[0;31mAssertionError\u001b[0m: "
     ]
    }
   ],
   "source": [
    "# %%time\n",
    "rids_exist = skclient.skeletons_exist(skeleton_version=skvn, root_ids=bulk_rids)\n",
    "print(json.dumps(rids_exist, indent=4))\n",
    "assert rids_exist == {\n",
    "    bulk_rids[0]: True,\n",
    "    bulk_rids[1]: False\n",
    "}\n",
    "print(\"TEST PASSED\")"
   ]
  },
  {
   "cell_type": "code",
   "execution_count": 48,
   "id": "a0dcfecd-48cb-48bc-b913-cdb9afc6b955",
   "metadata": {},
   "outputs": [
    {
     "name": "stderr",
     "output_type": "stream",
     "text": [
      "INFO:root:get_versions()\n",
      "INFO:root:endpoint: {skeleton_server_address}/skeletoncache/api/versions\n",
      "INFO:root:url: https://ltv5.microns-daf.com/skeletoncache/api/versions\n",
      "INFO:root:response: <Response [200]>\n",
      "INFO:root:versions: <class 'list'> [-1, 0, 1, 2, 3, 4]\n"
     ]
    },
    {
     "name": "stdout",
     "output_type": "stream",
     "text": [
      "{\n",
      "    \"num_found\": 0,\n",
      "    \"files\": []\n",
      "}\n"
     ]
    },
    {
     "ename": "AssertionError",
     "evalue": "",
     "output_type": "error",
     "traceback": [
      "\u001b[0;31m---------------------------------------------------------------------------\u001b[0m",
      "\u001b[0;31mAssertionError\u001b[0m                            Traceback (most recent call last)",
      "Cell \u001b[0;32mIn[48], line 5\u001b[0m\n\u001b[1;32m      3\u001b[0m cache_contents \u001b[38;5;241m=\u001b[39m skclient\u001b[38;5;241m.\u001b[39mget_cache_contents(skeleton_version\u001b[38;5;241m=\u001b[39mskvn, root_id_prefixes\u001b[38;5;241m=\u001b[39mbulk_rids)\n\u001b[1;32m      4\u001b[0m \u001b[38;5;28mprint\u001b[39m(json\u001b[38;5;241m.\u001b[39mdumps(cache_contents, indent\u001b[38;5;241m=\u001b[39m\u001b[38;5;241m4\u001b[39m))\n\u001b[0;32m----> 5\u001b[0m \u001b[38;5;28;01massert\u001b[39;00m cache_contents \u001b[38;5;241m==\u001b[39m {\n\u001b[1;32m      6\u001b[0m     \u001b[38;5;124m\"\u001b[39m\u001b[38;5;124mnum_found\u001b[39m\u001b[38;5;124m\"\u001b[39m: \u001b[38;5;241m1\u001b[39m,\n\u001b[1;32m      7\u001b[0m     \u001b[38;5;124m\"\u001b[39m\u001b[38;5;124mfiles\u001b[39m\u001b[38;5;124m\"\u001b[39m: [\n\u001b[1;32m      8\u001b[0m         \u001b[38;5;124m\"\u001b[39m\u001b[38;5;124mskeleton__v4__rid-864691135397503777__ds-minnie65_phase3_v1__res-1x1x1__cs-True__cr-7500.h5.gz\u001b[39m\u001b[38;5;124m\"\u001b[39m\n\u001b[1;32m      9\u001b[0m     ]\n\u001b[1;32m     10\u001b[0m }\n",
      "\u001b[0;31mAssertionError\u001b[0m: "
     ]
    }
   ],
   "source": [
    "# %%time\n",
    "import json\n",
    "cache_contents = skclient.get_cache_contents(skeleton_version=skvn, root_id_prefixes=bulk_rids)\n",
    "print(json.dumps(cache_contents, indent=4))\n",
    "assert cache_contents == {\n",
    "    \"num_found\": 1,\n",
    "    \"files\": [\n",
    "        f\"skeleton__v4__rid-{bulk_rids[0]}__ds-{datastack_name}__res-1x1x1__cs-True__cr-7500.h5.gz\"\n",
    "    ]\n",
    "}\n",
    "print(\"TEST PASSED\")"
   ]
  },
  {
   "cell_type": "markdown",
   "id": "72c187a6",
   "metadata": {},
   "source": [
    "# Bulk skeleton request tests"
   ]
  },
  {
   "cell_type": "code",
   "execution_count": 4,
   "id": "bcebe221",
   "metadata": {},
   "outputs": [
    {
     "ename": "NameError",
     "evalue": "name 'skclient' is not defined",
     "output_type": "error",
     "traceback": [
      "\u001b[0;31m---------------------------------------------------------------------------\u001b[0m",
      "\u001b[0;31mNameError\u001b[0m                                 Traceback (most recent call last)",
      "Cell \u001b[0;32mIn[4], line 2\u001b[0m\n\u001b[1;32m      1\u001b[0m \u001b[38;5;66;03m# %%time\u001b[39;00m\n\u001b[0;32m----> 2\u001b[0m result \u001b[38;5;241m=\u001b[39m \u001b[43mskclient\u001b[49m\u001b[38;5;241m.\u001b[39mget_bulk_skeletons(bulk_rids, skeleton_version\u001b[38;5;241m=\u001b[39mskvn, output_format\u001b[38;5;241m=\u001b[39m\u001b[38;5;124m'\u001b[39m\u001b[38;5;124mdict\u001b[39m\u001b[38;5;124m'\u001b[39m)\n\u001b[1;32m      3\u001b[0m \u001b[38;5;66;03m# We can't assert both root ids but only one was generated by the previous tests above.\u001b[39;00m\n\u001b[1;32m      4\u001b[0m \u001b[38;5;66;03m# The other root id will be asyncronously triggered by this test but won't be available for 20-60 seconds afterwards.\u001b[39;00m\n\u001b[1;32m      5\u001b[0m \u001b[38;5;28;01massert\u001b[39;00m(\u001b[38;5;28mstr\u001b[39m(bulk_rids[\u001b[38;5;241m0\u001b[39m]) \u001b[38;5;129;01min\u001b[39;00m result\u001b[38;5;241m.\u001b[39mkeys())\n",
      "\u001b[0;31mNameError\u001b[0m: name 'skclient' is not defined"
     ]
    }
   ],
   "source": [
    "# %%time\n",
    "result = skclient.get_bulk_skeletons(bulk_rids, skeleton_version=skvn, output_format='dict')\n",
    "# We can't assert both root ids but only one was generated by the previous tests above.\n",
    "# The other root id will be asyncronously triggered by this test but won't be available for 20-60 seconds afterwards.\n",
    "assert(str(bulk_rids[0]) in result.keys())\n",
    "print(\"TEST PASSED\")\n",
    "\n",
    "# %%time\n",
    "result = skclient.get_bulk_skeletons(bulk_rids, skeleton_version=skvn, output_format='dict', verbose_level=1)\n",
    "# We can't assert both root ids but only one was generated by the previous tests above.\n",
    "# The other root id will be asyncronously triggered by this test but won't be available for 20-60 seconds afterwards.\n",
    "assert(str(bulk_rids[0]) in result.keys())\n",
    "print(\"TEST PASSED\")\n",
    "\n",
    "# %%time\n",
    "result = skclient.generate_bulk_skeletons_async(bulk_rids, skeleton_version=skvn)\n",
    "print(type(result), result)\n",
    "assert result == 60.0\n",
    "print(\"TEST PASSED\")\n",
    "\n",
    "# %%time\n",
    "result = skclient.generate_bulk_skeletons_async(bulk_rids, skeleton_version=skvn, verbose_level=1)\n",
    "print(type(result), result)\n",
    "assert result == 60.0\n",
    "print(\"TEST PASSED\")"
   ]
  },
  {
   "cell_type": "markdown",
   "id": "ce6cc249-b7f1-42e9-86f9-bf14fed9c962",
   "metadata": {},
   "source": [
    "## Meshwork tests\n",
    "### At the current time, I implemented meshwork generation and caching, but then removed it at the suggestion of other team members, saving the code for possible future use. Consequently, thge meshwork routines can't be tested until the code is added back at some later time. Therefore, the following tests are currently disabled."
   ]
  },
  {
   "cell_type": "code",
   "execution_count": 37,
   "id": "2e9334cd-a2b2-47c6-aada-3d390f31edba",
   "metadata": {},
   "outputs": [],
   "source": [
    "RUN_MESHWORK_TESTS = False"
   ]
  },
  {
   "cell_type": "code",
   "execution_count": 38,
   "id": "b2b1790a-f43a-4c99-ae50-100cf776d2da",
   "metadata": {},
   "outputs": [
    {
     "name": "stdout",
     "output_type": "stream",
     "text": [
      "CPU times: user 6 µs, sys: 2 µs, total: 8 µs\n",
      "Wall time: 13.1 µs\n"
     ]
    }
   ],
   "source": [
    "%%time\n",
    "from io import BytesIO\n",
    "\n",
    "if RUN_MESHWORK_TESTS:\n",
    "    import pcg_skel\n",
    "    \n",
    "    mw_bytes = skclient.get_meshwork(single_rid, datastack_name, verbose_level=1)\n",
    "    print(len(mw_bytes))\n",
    "    nrn = pcg_skel.meshwork.load_meshwork(BytesIO(mw_bytes))\n",
    "    print(nrn)\n",
    "    print(len(nrn.vertices), len(nrn.edges), len(nrn.anno['pre_syn']), len(nrn.anno['post_syn']))\n",
    "    print(nrn.distance_to_root(nrn.anno.post_syn.mesh_index) / 1000)\n",
    "\n",
    "    print(\"This test doesn't appear to be fully implemented yet, as it doesn't contain an assertion clause.\")\n",
    "    \n",
    "    print(\"TEST PASSED\")"
   ]
  },
  {
   "cell_type": "code",
   "execution_count": 39,
   "id": "e23f188b-7483-4221-bb91-d8b19fa519df",
   "metadata": {},
   "outputs": [
    {
     "name": "stdout",
     "output_type": "stream",
     "text": [
      "CPU times: user 8 µs, sys: 3 µs, total: 11 µs\n",
      "Wall time: 21 µs\n"
     ]
    }
   ],
   "source": [
    "%%time\n",
    "if RUN_MESHWORK_TESTS:\n",
    "    estimated_time = skclient.generate_bulk_meshworks_async(bulk_rids, datastack_name, verbose_level=1)\n",
    "    print(type(result), result)\n",
    "    assert result == 60.0\n",
    "print(\"TEST PASSED\")"
   ]
  },
  {
   "cell_type": "code",
   "execution_count": null,
   "id": "aff1c60d-e907-44ff-9f17-337ada49a950",
   "metadata": {},
   "outputs": [],
   "source": []
  }
 ],
 "metadata": {
  "kernelspec": {
   "display_name": "work_env3",
   "language": "python",
   "name": "work_env3"
  },
  "language_info": {
   "codemirror_mode": {
    "name": "ipython",
    "version": 3
   },
   "file_extension": ".py",
   "mimetype": "text/x-python",
   "name": "python",
   "nbconvert_exporter": "python",
   "pygments_lexer": "ipython3",
   "version": "3.9.6"
  }
 },
 "nbformat": 4,
 "nbformat_minor": 5
}
