{
 "cells": [
  {
   "cell_type": "code",
   "execution_count": 8,
   "id": "23603652-da9d-4b89-8670-e5a8b846cdd7",
   "metadata": {},
   "outputs": [
    {
     "data": {
      "text/html": [
       "<style>:root { --jp-notebook-max-width: 100% !important; }</style>"
      ],
      "text/plain": [
       "<IPython.core.display.HTML object>"
      ]
     },
     "metadata": {},
     "output_type": "display_data"
    }
   ],
   "source": [
    "from IPython.display import display, HTML\n",
    "display(HTML(\"<style>:root { --jp-notebook-max-width: 100% !important; }</style>\"))"
   ]
  },
  {
   "cell_type": "code",
   "execution_count": 9,
   "id": "5168b3e2-d6ba-42f3-bccd-a4f22e19da79",
   "metadata": {},
   "outputs": [],
   "source": [
    "import urllib3\n",
    "urllib3.disable_warnings(urllib3.exceptions.InsecureRequestWarning)\n",
    "\n",
    "import logging\n",
    "logger = logging.getLogger()\n",
    "logger.setLevel(logging.INFO)"
   ]
  },
  {
   "cell_type": "markdown",
   "id": "d6763f25-6f4e-408c-8918-6fc811f27972",
   "metadata": {},
   "source": [
    "# Set things up"
   ]
  },
  {
   "cell_type": "code",
   "execution_count": 12,
   "id": "e83feecb",
   "metadata": {},
   "outputs": [
    {
     "name": "stdout",
     "output_type": "stream",
     "text": [
      "CAVEclient version: v7.6.1 , v7.6.1\n"
     ]
    }
   ],
   "source": [
    "import caveclient as cc\n",
    "import importlib.metadata\n",
    "\n",
    "print(f\"CAVEclient version: v{cc.__version__} , v{importlib.metadata.version('CAVEclient')}\")\n",
    "\n",
    "datastack_name = \"minnie65_phase3_v1\"\n",
    "\n",
    "client = cc.CAVEclient(datastack_name)\n",
    "client.materialize.version = 1078"
   ]
  },
  {
   "cell_type": "markdown",
   "id": "18ba4dd9-9391-473e-91c0-fc9543672b33",
   "metadata": {},
   "source": [
    "## Pick a test server:\n",
    "* **localhost:5000 — Test SkeletonService on the local machine, say via the VS Code Debugger**\n",
    "* **ltv5 — The SkeletonService on the test cluster**\n",
    "* **minniev6 — Test SkeletonService \"in the wild\"**"
   ]
  },
  {
   "cell_type": "code",
   "execution_count": 19,
   "id": "dbd8b5d5",
   "metadata": {},
   "outputs": [],
   "source": [
    "# server_address = \"https://localhost:5000\"\n",
    "server_address = \"https://ltv5.microns-daf.com\"\n",
    "# server_address = \"https://minniev6.microns-daf.com\"\n",
    "\n",
    "skclient = cc.skeletonservice.SkeletonClient(server_address, datastack_name, over_client=client, verify=False)"
   ]
  },
  {
   "cell_type": "code",
   "execution_count": 42,
   "id": "dacfb697-252d-4d12-b2dc-1d5440f49c03",
   "metadata": {},
   "outputs": [],
   "source": [
    "bulk_rids = [864691135463611454, 864691135687456480]\n",
    "larger_bulk_rids = bulk_rids * 6  # Twelve rids will exceed the ten-rid limit of get_bulk_skeletons()\n",
    "single_rid = bulk_rids[0]\n",
    "sample_refusal_list_rid = 11223344556677889900\n",
    "sample_invalid_node_rid = 864691135687000000\n",
    "sample_supervoxel_rid = 88891049011371731\n",
    "skvn = 4"
   ]
  },
  {
   "cell_type": "markdown",
   "id": "5319b82d-f9bf-46a7-b9c5-75ea0e4c0c8d",
   "metadata": {},
   "source": [
    "# Delete the test rid files from the bucket so we can test regenerating them from scratch"
   ]
  },
  {
   "cell_type": "code",
   "execution_count": 24,
   "id": "65454317-270d-4f72-94f8-8e405cc27955",
   "metadata": {},
   "outputs": [
    {
     "name": "stdout",
     "output_type": "stream",
     "text": [
      "Testing bucket: gs://minnie65_skeletons/ltv/minnie65_phase3_v1/4\n",
      "skeleton__v4__rid-864691135463611454__ds-minnie65_phase3_v1__res-1x1x1__cs-True__cr-7500.h5.gz\n",
      "True\n",
      "skeleton__v4__rid-864691135463611454__ds-minnie65_phase3_v1__res-1x1x1__cs-True__cr-7500.flatdict.gz\n",
      "True\n",
      "skeleton__v4__rid-864691135463611454__ds-minnie65_phase3_v1__res-1x1x1__cs-True__cr-7500.swccompressed.gz\n",
      "True\n",
      "skeleton__v4__rid-864691135687456480__ds-minnie65_phase3_v1__res-1x1x1__cs-True__cr-7500.h5.gz\n",
      "True\n",
      "skeleton__v4__rid-864691135687456480__ds-minnie65_phase3_v1__res-1x1x1__cs-True__cr-7500.flatdict.gz\n",
      "False\n",
      "skeleton__v4__rid-864691135687456480__ds-minnie65_phase3_v1__res-1x1x1__cs-True__cr-7500.swccompressed.gz\n",
      "False\n"
     ]
    }
   ],
   "source": [
    "from cloudfiles import CloudFiles\n",
    "\n",
    "bucket = None\n",
    "if \"localhost\" in server_address or \"ltv\" in server_address:\n",
    "    bucket = f\"gs://minnie65_skeletons/ltv/{datastack_name}/{skvn}\"\n",
    "elif \"minnie\" in server_address:\n",
    "    bucket = f\"gs://minnie65_skeletons/{datastack_name}/{skvn}\"\n",
    "print(f\"Testing bucket: {bucket}\")\n",
    "\n",
    "cf = CloudFiles(bucket)\n",
    "for rid in bulk_rids:\n",
    "    for output_format in [\"h5\", \"flatdict\", \"swccompressed\"]:\n",
    "        filename = f\"skeleton__v{skvn}__rid-{rid}__ds-{datastack_name}__res-1x1x1__cs-True__cr-7500.{output_format}.gz\"\n",
    "        print(filename)\n",
    "        print(cf.exists(filename))"
   ]
  },
  {
   "cell_type": "code",
   "execution_count": 25,
   "id": "6e5285d7-3c3b-4012-bc5d-1ed50aef9dc0",
   "metadata": {},
   "outputs": [
    {
     "name": "stdout",
     "output_type": "stream",
     "text": [
      "skeleton__v4__rid-864691135463611454__ds-minnie65_phase3_v1__res-1x1x1__cs-True__cr-7500.h5.gz\n",
      "True\n",
      "False\n",
      "skeleton__v4__rid-864691135463611454__ds-minnie65_phase3_v1__res-1x1x1__cs-True__cr-7500.flatdict.gz\n",
      "True\n",
      "False\n",
      "skeleton__v4__rid-864691135463611454__ds-minnie65_phase3_v1__res-1x1x1__cs-True__cr-7500.swccompressed.gz\n",
      "True\n",
      "False\n",
      "skeleton__v4__rid-864691135687456480__ds-minnie65_phase3_v1__res-1x1x1__cs-True__cr-7500.h5.gz\n",
      "True\n",
      "False\n",
      "skeleton__v4__rid-864691135687456480__ds-minnie65_phase3_v1__res-1x1x1__cs-True__cr-7500.flatdict.gz\n",
      "False\n",
      "False\n",
      "skeleton__v4__rid-864691135687456480__ds-minnie65_phase3_v1__res-1x1x1__cs-True__cr-7500.swccompressed.gz\n",
      "False\n",
      "False\n"
     ]
    }
   ],
   "source": [
    "from cloudfiles import CloudFiles\n",
    "\n",
    "cf = CloudFiles(bucket)\n",
    "for rid in bulk_rids:\n",
    "    for output_format in [\"h5\", \"flatdict\", \"swccompressed\"]:\n",
    "        filename = f\"skeleton__v{skvn}__rid-{rid}__ds-{datastack_name}__res-1x1x1__cs-True__cr-7500.{output_format}.gz\"\n",
    "        print(filename)\n",
    "        print(cf.exists(filename))\n",
    "        cf.delete(filename)\n",
    "        print(cf.exists(filename))"
   ]
  },
  {
   "cell_type": "markdown",
   "id": "2f8d0a85-13dd-42ea-9d4c-a70326ba54ee",
   "metadata": {},
   "source": [
    "## Metadata tests"
   ]
  },
  {
   "cell_type": "code",
   "execution_count": 26,
   "id": "6b29920c-d179-4ffe-87d4-4d6d0286fe2f",
   "metadata": {},
   "outputs": [
    {
     "name": "stdout",
     "output_type": "stream",
     "text": [
      "{'@type': 'neuroglancer_skeletons', 'transform': [1, 0, 0, 0, 0, 1, 0, 0, 0, 0, 1, 0], 'vertex_attributes': [{'id': 'radius', 'data_type': 'float32', 'num_components': 1}, {'id': 'compartment', 'data_type': 'uint8', 'num_components': 1}]}\n",
      "TEST PASSED\n"
     ]
    }
   ],
   "source": [
    "precomputed_skeleton_info = skclient.get_precomputed_skeleton_info(skvn=skvn)\n",
    "print(precomputed_skeleton_info)\n",
    "assert precomputed_skeleton_info == {\n",
    "    '@type': 'neuroglancer_skeletons',\n",
    "    'transform': [1, 0, 0, 0, 0, 1, 0, 0, 0, 0, 1, 0],\n",
    "    'vertex_attributes': [\n",
    "        {'id': 'radius', 'data_type': 'float32', 'num_components': 1},\n",
    "        {'id': 'compartment', 'data_type': 'uint8', 'num_components': 1}\n",
    "    ]\n",
    "}\n",
    "print(\"TEST PASSED\")"
   ]
  },
  {
   "cell_type": "code",
   "execution_count": 31,
   "id": "b4c2fc01-5ad0-4d10-8d4d-9a858be2ac1b",
   "metadata": {},
   "outputs": [
    {
     "name": "stderr",
     "output_type": "stream",
     "text": [
      "INFO:root:get_versions()\n",
      "INFO:root:endpoint: {skeleton_server_address}/skeletoncache/api/versions\n",
      "INFO:root:url: https://ltv5.microns-daf.com/skeletoncache/api/versions\n",
      "INFO:root:response: <Response [200]>\n",
      "INFO:root:versions: <class 'list'> [-1, 0, 1, 2, 3, 4]\n",
      "INFO:root:get_versions()\n",
      "INFO:root:endpoint: {skeleton_server_address}/skeletoncache/api/versions\n",
      "INFO:root:url: https://ltv5.microns-daf.com/skeletoncache/api/versions\n",
      "INFO:root:response: <Response [200]>\n",
      "INFO:root:versions: <class 'list'> [-1, 0, 1, 2, 3, 4]\n"
     ]
    },
    {
     "name": "stdout",
     "output_type": "stream",
     "text": [
      "TEST PASSED\n"
     ]
    },
    {
     "name": "stderr",
     "output_type": "stream",
     "text": [
      "INFO:root:get_versions()\n",
      "INFO:root:endpoint: {skeleton_server_address}/skeletoncache/api/versions\n",
      "INFO:root:url: https://ltv5.microns-daf.com/skeletoncache/api/versions\n",
      "INFO:root:response: <Response [200]>\n",
      "INFO:root:versions: <class 'list'> [-1, 0, 1, 2, 3, 4]\n"
     ]
    },
    {
     "name": "stdout",
     "output_type": "stream",
     "text": [
      "TEST PASSED\n",
      "TEST PASSED\n"
     ]
    }
   ],
   "source": [
    "import json\n",
    "\n",
    "rids_exist = skclient.skeletons_exist(skeleton_version=skvn, root_ids=bulk_rids)\n",
    "# print(json.dumps(rids_exist, indent=4))\n",
    "assert rids_exist == {\n",
    "    bulk_rids[0]: False,\n",
    "    bulk_rids[1]: False\n",
    "}\n",
    "print(\"TEST PASSED\")\n",
    "\n",
    "rids_exist = skclient.skeletons_exist(skeleton_version=skvn, root_ids=bulk_rids, log_warning=False)\n",
    "# print(json.dumps(rids_exist, indent=4))\n",
    "assert rids_exist == {\n",
    "    bulk_rids[0]: False,\n",
    "    bulk_rids[1]: False\n",
    "}\n",
    "print(\"TEST PASSED\")\n",
    "\n",
    "rids_exist = skclient.skeletons_exist(skeleton_version=skvn, root_ids=bulk_rids, verbose_level=1)\n",
    "# print(json.dumps(rids_exist, indent=4))\n",
    "assert rids_exist == {\n",
    "    bulk_rids[0]: False,\n",
    "    bulk_rids[1]: False\n",
    "}\n",
    "print(\"TEST PASSED\")"
   ]
  },
  {
   "cell_type": "code",
   "execution_count": 32,
   "id": "20c23b13-c509-4bc1-a706-e0e5db791823",
   "metadata": {},
   "outputs": [
    {
     "name": "stderr",
     "output_type": "stream",
     "text": [
      "INFO:root:get_versions()\n",
      "INFO:root:endpoint: {skeleton_server_address}/skeletoncache/api/versions\n",
      "INFO:root:url: https://ltv5.microns-daf.com/skeletoncache/api/versions\n",
      "INFO:root:response: <Response [200]>\n",
      "INFO:root:versions: <class 'list'> [-1, 0, 1, 2, 3, 4]\n",
      "INFO:root:get_versions()\n",
      "INFO:root:endpoint: {skeleton_server_address}/skeletoncache/api/versions\n",
      "INFO:root:url: https://ltv5.microns-daf.com/skeletoncache/api/versions\n",
      "INFO:root:response: <Response [200]>\n",
      "INFO:root:versions: <class 'list'> [-1, 0, 1, 2, 3, 4]\n"
     ]
    },
    {
     "name": "stdout",
     "output_type": "stream",
     "text": [
      "TEST PASSED\n"
     ]
    },
    {
     "name": "stderr",
     "output_type": "stream",
     "text": [
      "INFO:root:get_versions()\n",
      "INFO:root:endpoint: {skeleton_server_address}/skeletoncache/api/versions\n",
      "INFO:root:url: https://ltv5.microns-daf.com/skeletoncache/api/versions\n",
      "INFO:root:response: <Response [200]>\n",
      "INFO:root:versions: <class 'list'> [-1, 0, 1, 2, 3, 4]\n"
     ]
    },
    {
     "name": "stdout",
     "output_type": "stream",
     "text": [
      "TEST PASSED\n",
      "TEST PASSED\n"
     ]
    }
   ],
   "source": [
    "import json\n",
    "\n",
    "cache_contents = skclient.get_cache_contents(skeleton_version=skvn, root_id_prefixes=bulk_rids)\n",
    "# print(json.dumps(cache_contents, indent=4))\n",
    "assert cache_contents == {\n",
    "    \"num_found\": 0,\n",
    "    \"files\": []\n",
    "}\n",
    "print(\"TEST PASSED\")\n",
    "\n",
    "cache_contents = skclient.get_cache_contents(skeleton_version=skvn, root_id_prefixes=bulk_rids, log_warning=False)\n",
    "# print(json.dumps(cache_contents, indent=4))\n",
    "assert cache_contents == {\n",
    "    \"num_found\": 0,\n",
    "    \"files\": []\n",
    "}\n",
    "print(\"TEST PASSED\")\n",
    "\n",
    "cache_contents = skclient.get_cache_contents(skeleton_version=skvn, root_id_prefixes=bulk_rids, verbose_level=1)\n",
    "# print(json.dumps(cache_contents, indent=4))\n",
    "assert cache_contents == {\n",
    "    \"num_found\": 0,\n",
    "    \"files\": []\n",
    "}\n",
    "print(\"TEST PASSED\")"
   ]
  },
  {
   "cell_type": "markdown",
   "id": "079f4aff-7244-4df5-946d-a199d8194d4b",
   "metadata": {},
   "source": [
    "# Invalid skeleton request tests"
   ]
  },
  {
   "cell_type": "code",
   "execution_count": 35,
   "id": "ad6a7abc-3fb5-4b7c-86e0-da1d136998e7",
   "metadata": {},
   "outputs": [
    {
     "name": "stderr",
     "output_type": "stream",
     "text": [
      "INFO:root:get_versions()\n",
      "INFO:root:endpoint: {skeleton_server_address}/skeletoncache/api/versions\n",
      "INFO:root:url: https://ltv5.microns-daf.com/skeletoncache/api/versions\n",
      "INFO:root:response: <Response [200]>\n",
      "INFO:root:versions: <class 'list'> [-1, 0, 1, 2, 3, 4]\n",
      "INFO:root:SkeletonService version: 0.17.9\n",
      "INFO:root:get_versions()\n",
      "INFO:root:endpoint: {skeleton_server_address}/skeletoncache/api/versions\n",
      "INFO:root:url: https://ltv5.microns-daf.com/skeletoncache/api/versions\n",
      "INFO:root:response: <Response [200]>\n",
      "INFO:root:versions: <class 'list'> [-1, 0, 1, 2, 3, 4]\n",
      "INFO:root:SkeletonService version: 0.17.9\n"
     ]
    },
    {
     "name": "stdout",
     "output_type": "stream",
     "text": [
      "400 Client Error: BAD REQUEST for url: https://ltv5.microns-daf.com/skeletoncache/api/v1/minnie65_phase3_v1/async/get_skeleton/4/11223344556677889900/flatdict?verbose_level=1 content: b'{\\n    \"Error\": \"Problematic root id: 11223344556677889900 is in the refusal list\"\\n}\\n'\n",
      "TEST PASSED\n"
     ]
    },
    {
     "name": "stderr",
     "output_type": "stream",
     "text": [
      "INFO:root:get_versions()\n",
      "INFO:root:endpoint: {skeleton_server_address}/skeletoncache/api/versions\n",
      "INFO:root:url: https://ltv5.microns-daf.com/skeletoncache/api/versions\n",
      "INFO:root:response: <Response [200]>\n",
      "INFO:root:versions: <class 'list'> [-1, 0, 1, 2, 3, 4]\n",
      "INFO:root:SkeletonService version: 0.17.9\n"
     ]
    },
    {
     "name": "stdout",
     "output_type": "stream",
     "text": [
      "400 Client Error: BAD REQUEST for url: https://ltv5.microns-daf.com/skeletoncache/api/v1/minnie65_phase3_v1/async/get_skeleton/4/864691135687000000/flatdict?verbose_level=1 content: b'{\\n    \"Error\": \"Invalid root id: 864691135687000000 (perhaps it doesn\\'t exist; the error is unclear)\"\\n}\\n'\n",
      "TEST PASSED\n",
      "400 Client Error: BAD REQUEST for url: https://ltv5.microns-daf.com/skeletoncache/api/v1/minnie65_phase3_v1/async/get_skeleton/4/88891049011371731/flatdict?verbose_level=1 content: b'{\\n    \"Error\": \"Invalid root id: 88891049011371731 (perhaps this is an id corresponding to a different level of the PCG, e.g., a supervoxel id)\"\\n}\\n'\n",
      "TEST PASSED\n"
     ]
    }
   ],
   "source": [
    "import requests\n",
    "\n",
    "err = None\n",
    "try:\n",
    "    sk = skclient.get_skeleton(sample_refusal_list_rid, datastack_name, skeleton_version=skvn, output_format='dict', verbose_level=1)\n",
    "except requests.HTTPError as e:\n",
    "    print(e)\n",
    "    assert e.response.text == '{\\n    \"Error\": \"Problematic root id: ' + str(sample_refusal_list_rid) + ' is in the refusal list\"\\n}\\n'\n",
    "print(\"TEST PASSED\")\n",
    "\n",
    "err = None\n",
    "try:\n",
    "    sk = skclient.get_skeleton(sample_invalid_node_rid, datastack_name, skeleton_version=skvn, output_format='dict', verbose_level=1)\n",
    "except requests.HTTPError as e:\n",
    "    print(e)\n",
    "    assert e.response.text == '{\\n    \"Error\": \"Invalid root id: ' + str(sample_invalid_node_rid) + ' (perhaps it doesn\\'t exist; the error is unclear)\"\\n}\\n'\n",
    "print(\"TEST PASSED\")\n",
    "\n",
    "err = None\n",
    "try:\n",
    "    sk = skclient.get_skeleton(sample_supervoxel_rid, datastack_name, skeleton_version=skvn, output_format='dict', verbose_level=1)\n",
    "except requests.HTTPError as e:\n",
    "    print(e)\n",
    "    assert e.response.text == '{\\n    \"Error\": \"Invalid root id: ' + str(sample_supervoxel_rid) + ' (perhaps this is an id corresponding to a different level of the PCG, e.g., a supervoxel id)\"\\n}\\n'\n",
    "print(\"TEST PASSED\")"
   ]
  },
  {
   "cell_type": "markdown",
   "id": "17374094",
   "metadata": {},
   "source": [
    "# Skeleton request tests"
   ]
  },
  {
   "cell_type": "code",
   "execution_count": 36,
   "id": "3d940db1",
   "metadata": {},
   "outputs": [
    {
     "name": "stderr",
     "output_type": "stream",
     "text": [
      "INFO:root:get_versions()\n",
      "INFO:root:endpoint: {skeleton_server_address}/skeletoncache/api/versions\n",
      "INFO:root:url: https://ltv5.microns-daf.com/skeletoncache/api/versions\n",
      "INFO:root:response: <Response [200]>\n",
      "INFO:root:versions: <class 'list'> [-1, 0, 1, 2, 3, 4]\n",
      "INFO:root:SkeletonService version: 0.17.9\n",
      "INFO:root:get_skeleton() response contains content of size 67466 bytes\n"
     ]
    },
    {
     "name": "stdout",
     "output_type": "stream",
     "text": [
      "TEST PASSED\n",
      "CPU times: user 58.5 ms, sys: 20.9 ms, total: 79.4 ms\n",
      "Wall time: 22.9 s\n"
     ]
    }
   ],
   "source": [
    "%%time\n",
    "sk = skclient.get_skeleton(single_rid, datastack_name, skeleton_version=skvn, output_format='dict')\n",
    "# display(sk)\n",
    "assert sk is not None and isinstance(sk, dict)\n",
    "print(\"TEST PASSED\")"
   ]
  },
  {
   "cell_type": "code",
   "execution_count": 37,
   "id": "3c4ab7e1-fb0e-4c87-a4df-0dc18353ea56",
   "metadata": {
    "scrolled": true
   },
   "outputs": [
    {
     "name": "stderr",
     "output_type": "stream",
     "text": [
      "INFO:root:get_versions()\n",
      "INFO:root:endpoint: {skeleton_server_address}/skeletoncache/api/versions\n",
      "INFO:root:url: https://ltv5.microns-daf.com/skeletoncache/api/versions\n",
      "INFO:root:response: <Response [200]>\n",
      "INFO:root:versions: <class 'list'> [-1, 0, 1, 2, 3, 4]\n",
      "INFO:root:SkeletonService version: 0.17.9\n",
      "INFO:root:get_skeleton() response contains content of size 67466 bytes\n"
     ]
    },
    {
     "name": "stdout",
     "output_type": "stream",
     "text": [
      "TEST PASSED\n",
      "CPU times: user 16.9 ms, sys: 4.8 ms, total: 21.7 ms\n",
      "Wall time: 2.33 s\n"
     ]
    }
   ],
   "source": [
    "%%time\n",
    "sk = skclient.get_skeleton(single_rid, datastack_name, skeleton_version=skvn, output_format='dict', verbose_level=1)\n",
    "# display(sk)\n",
    "assert sk is not None and isinstance(sk, dict)\n",
    "print(\"TEST PASSED\")"
   ]
  },
  {
   "cell_type": "code",
   "execution_count": 38,
   "id": "911a4c69-3a8d-478e-9d2a-7a34fe85f306",
   "metadata": {},
   "outputs": [
    {
     "name": "stderr",
     "output_type": "stream",
     "text": [
      "INFO:root:get_versions()\n",
      "INFO:root:endpoint: {skeleton_server_address}/skeletoncache/api/versions\n",
      "INFO:root:url: https://ltv5.microns-daf.com/skeletoncache/api/versions\n",
      "INFO:root:response: <Response [200]>\n",
      "INFO:root:versions: <class 'list'> [-1, 0, 1, 2, 3, 4]\n",
      "INFO:root:SkeletonService version: 0.17.9\n",
      "INFO:root:get_skeleton() response contains content of size 28205 bytes\n"
     ]
    },
    {
     "name": "stdout",
     "output_type": "stream",
     "text": [
      "TEST PASSED\n",
      "CPU times: user 29.9 ms, sys: 7.9 ms, total: 37.8 ms\n",
      "Wall time: 1.59 s\n"
     ]
    }
   ],
   "source": [
    "%%time\n",
    "import pandas as pd\n",
    "\n",
    "sk = skclient.get_skeleton(single_rid, datastack_name, skeleton_version=skvn, output_format='swc', verbose_level=1)\n",
    "# display(sk)\n",
    "assert sk is not None and isinstance(sk, pd.DataFrame)\n",
    "print(\"TEST PASSED\")"
   ]
  },
  {
   "cell_type": "markdown",
   "id": "cbae3297",
   "metadata": {},
   "source": [
    "### Inspect the cache after generating new skeletons"
   ]
  },
  {
   "cell_type": "code",
   "execution_count": 39,
   "id": "bbcba807-b2b3-44f9-ba8f-6fdd8933a76b",
   "metadata": {},
   "outputs": [
    {
     "name": "stderr",
     "output_type": "stream",
     "text": [
      "INFO:root:get_versions()\n",
      "INFO:root:endpoint: {skeleton_server_address}/skeletoncache/api/versions\n",
      "INFO:root:url: https://ltv5.microns-daf.com/skeletoncache/api/versions\n",
      "INFO:root:response: <Response [200]>\n",
      "INFO:root:versions: <class 'list'> [-1, 0, 1, 2, 3, 4]\n"
     ]
    },
    {
     "name": "stdout",
     "output_type": "stream",
     "text": [
      "{\n",
      "    \"864691135463611454\": true,\n",
      "    \"864691135687456480\": false\n",
      "}\n",
      "TEST PASSED\n"
     ]
    }
   ],
   "source": [
    "rids_exist = skclient.skeletons_exist(skeleton_version=skvn, root_ids=bulk_rids)\n",
    "print(json.dumps(rids_exist, indent=4))\n",
    "assert rids_exist == {\n",
    "    bulk_rids[0]: True,\n",
    "    bulk_rids[1]: False\n",
    "}\n",
    "print(\"TEST PASSED\")"
   ]
  },
  {
   "cell_type": "code",
   "execution_count": 40,
   "id": "a0dcfecd-48cb-48bc-b913-cdb9afc6b955",
   "metadata": {},
   "outputs": [
    {
     "name": "stderr",
     "output_type": "stream",
     "text": [
      "INFO:root:get_versions()\n",
      "INFO:root:endpoint: {skeleton_server_address}/skeletoncache/api/versions\n",
      "INFO:root:url: https://ltv5.microns-daf.com/skeletoncache/api/versions\n",
      "INFO:root:response: <Response [200]>\n",
      "INFO:root:versions: <class 'list'> [-1, 0, 1, 2, 3, 4]\n"
     ]
    },
    {
     "name": "stdout",
     "output_type": "stream",
     "text": [
      "{\n",
      "    \"num_found\": 1,\n",
      "    \"files\": [\n",
      "        \"skeleton__v4__rid-864691135463611454__ds-minnie65_phase3_v1__res-1x1x1__cs-True__cr-7500.h5.gz\"\n",
      "    ]\n",
      "}\n",
      "TEST PASSED\n"
     ]
    }
   ],
   "source": [
    "import json\n",
    "cache_contents = skclient.get_cache_contents(skeleton_version=skvn, root_id_prefixes=bulk_rids)\n",
    "print(json.dumps(cache_contents, indent=4))\n",
    "assert cache_contents == {\n",
    "    \"num_found\": 1,\n",
    "    \"files\": [\n",
    "        f\"skeleton__v4__rid-{bulk_rids[0]}__ds-{datastack_name}__res-1x1x1__cs-True__cr-7500.h5.gz\"\n",
    "    ]\n",
    "}\n",
    "print(\"TEST PASSED\")"
   ]
  },
  {
   "cell_type": "markdown",
   "id": "72c187a6",
   "metadata": {},
   "source": [
    "# Small bulk skeleton request tests\n",
    "## This routine truncates the request list to a small number (10 at the time of this writing), returns any skeletons that are available, and submits the rest to the asynchronous queue"
   ]
  },
  {
   "cell_type": "code",
   "execution_count": 41,
   "id": "bcebe221",
   "metadata": {},
   "outputs": [
    {
     "name": "stderr",
     "output_type": "stream",
     "text": [
      "INFO:root:get_versions()\n",
      "INFO:root:endpoint: {skeleton_server_address}/skeletoncache/api/versions\n",
      "INFO:root:url: https://ltv5.microns-daf.com/skeletoncache/api/versions\n",
      "INFO:root:response: <Response [200]>\n",
      "INFO:root:versions: <class 'list'> [-1, 0, 1, 2, 3, 4]\n",
      "INFO:root:Generated skeletons for root_ids [864691135463611454, 864691135687456480] (with generate_missing_skeletons=False)\n",
      "INFO:root:get_versions()\n",
      "INFO:root:endpoint: {skeleton_server_address}/skeletoncache/api/versions\n",
      "INFO:root:url: https://ltv5.microns-daf.com/skeletoncache/api/versions\n",
      "INFO:root:response: <Response [200]>\n",
      "INFO:root:versions: <class 'list'> [-1, 0, 1, 2, 3, 4]\n"
     ]
    },
    {
     "name": "stdout",
     "output_type": "stream",
     "text": [
      "TEST PASSED\n"
     ]
    },
    {
     "name": "stderr",
     "output_type": "stream",
     "text": [
      "INFO:root:Generated skeletons for root_ids [864691135463611454, 864691135687456480] (with generate_missing_skeletons=False)\n"
     ]
    },
    {
     "name": "stdout",
     "output_type": "stream",
     "text": [
      "TEST PASSED\n"
     ]
    },
    {
     "name": "stderr",
     "output_type": "stream",
     "text": [
      "INFO:root:Queued asynchronous skeleton generation for one batch of root_ids: [864691135463611454, 864691135687456480]\n",
      "INFO:root:Upper estimate to generate one batch of 2 skeletons: 60.0 seconds\n",
      "INFO:root:Upper estimate to generate all 2 skeletons: 1.0 minutes\n"
     ]
    },
    {
     "name": "stdout",
     "output_type": "stream",
     "text": [
      "<class 'float'> 60.0\n",
      "TEST PASSED\n"
     ]
    },
    {
     "name": "stderr",
     "output_type": "stream",
     "text": [
      "INFO:root:Queued asynchronous skeleton generation for one batch of root_ids: [864691135463611454, 864691135687456480]\n",
      "INFO:root:Upper estimate to generate one batch of 2 skeletons: 60.0 seconds\n",
      "INFO:root:Upper estimate to generate all 2 skeletons: 1.0 minutes\n"
     ]
    },
    {
     "name": "stdout",
     "output_type": "stream",
     "text": [
      "<class 'float'> 60.0\n",
      "TEST PASSED\n"
     ]
    }
   ],
   "source": [
    "result = skclient.get_bulk_skeletons(bulk_rids, skeleton_version=skvn, output_format='dict')\n",
    "# We can't assert both root ids but only one was generated by the previous tests above.\n",
    "# The other root id will be asyncronously triggered by this test but won't be available for 20-60 seconds afterwards.\n",
    "assert(str(bulk_rids[0]) in result.keys())\n",
    "print(\"TEST PASSED\")\n",
    "\n",
    "result = skclient.get_bulk_skeletons(bulk_rids, skeleton_version=skvn, output_format='dict', verbose_level=1)\n",
    "# We can't assert both root ids but only one was generated by the previous tests above.\n",
    "# The other root id will be asyncronously triggered by this test but won't be available for 20-60 seconds afterwards.\n",
    "assert(str(bulk_rids[0]) in result.keys())\n",
    "print(\"TEST PASSED\")\n",
    "\n",
    "result = skclient.get_bulk_skeletons(larger_bulk_rids, skeleton_version=skvn, output_format='dict', verbose_level=1)\n",
    "# We can't assert both root ids but only one was generated by the previous tests above.\n",
    "# The other root id will be asyncronously triggered by this test but won't be available for 20-60 seconds afterwards.\n",
    "assert(str(bulk_rids[0]) in result.keys())\n",
    "print(\"TEST PASSED\")"
   ]
  },
  {
   "cell_type": "markdown",
   "id": "54ca7c5c",
   "metadata": {},
   "source": [
    "# Asynchronous bulk skeleton request tests\n",
    "## This routine submits a large number of requests and returns only the estimated time to complete the job; it doesn't return any skeletons.\n",
    "### The estimated job time depends on the number of parallel workers available on the serverm with each skeleton allocated 60s for estimation purposes.\n",
    "### For example, with 10 workers, 1–10 skeletons would take 60s, 11–20 skeletons would take 120s, etc.\n",
    "### At the time of this writing, all servers are configured to use 30 workers."
   ]
  },
  {
   "cell_type": "code",
   "execution_count": null,
   "id": "cf6835b4",
   "metadata": {},
   "outputs": [],
   "source": [
    "result = skclient.generate_bulk_skeletons_async(bulk_rids, skeleton_version=skvn)\n",
    "print(type(result), result)\n",
    "assert result == 60.0\n",
    "print(\"TEST PASSED\")\n",
    "\n",
    "result = skclient.generate_bulk_skeletons_async(bulk_rids, skeleton_version=skvn, verbose_level=1)\n",
    "print(type(result), result)\n",
    "assert result == 60.0\n",
    "print(\"TEST PASSED\")\n",
    "\n",
    "result = skclient.generate_bulk_skeletons_async(larger_bulk_rids, skeleton_version=skvn, verbose_level=1)\n",
    "print(type(result), result)\n",
    "assert result == 60.0\n",
    "print(\"TEST PASSED\")"
   ]
  },
  {
   "cell_type": "markdown",
   "id": "ce6cc249-b7f1-42e9-86f9-bf14fed9c962",
   "metadata": {},
   "source": [
    "## Meshwork tests\n",
    "### At the current time, I implemented meshwork generation and caching, but then removed it at the suggestion of other team members, saving the code for possible future use. Consequently, thge meshwork routines can't be tested until the code is added back at some later time. Therefore, the following tests are currently disabled."
   ]
  },
  {
   "cell_type": "code",
   "execution_count": 37,
   "id": "2e9334cd-a2b2-47c6-aada-3d390f31edba",
   "metadata": {},
   "outputs": [],
   "source": [
    "RUN_MESHWORK_TESTS = False"
   ]
  },
  {
   "cell_type": "code",
   "execution_count": 38,
   "id": "b2b1790a-f43a-4c99-ae50-100cf776d2da",
   "metadata": {},
   "outputs": [
    {
     "name": "stdout",
     "output_type": "stream",
     "text": [
      "CPU times: user 6 µs, sys: 2 µs, total: 8 µs\n",
      "Wall time: 13.1 µs\n"
     ]
    }
   ],
   "source": [
    "%%time\n",
    "from io import BytesIO\n",
    "\n",
    "if RUN_MESHWORK_TESTS:\n",
    "    import pcg_skel\n",
    "    \n",
    "    mw_bytes = skclient.get_meshwork(single_rid, datastack_name, verbose_level=1)\n",
    "    print(len(mw_bytes))\n",
    "    nrn = pcg_skel.meshwork.load_meshwork(BytesIO(mw_bytes))\n",
    "    print(nrn)\n",
    "    print(len(nrn.vertices), len(nrn.edges), len(nrn.anno['pre_syn']), len(nrn.anno['post_syn']))\n",
    "    print(nrn.distance_to_root(nrn.anno.post_syn.mesh_index) / 1000)\n",
    "\n",
    "    print(\"This test doesn't appear to be fully implemented yet, as it doesn't contain an assertion clause.\")\n",
    "    \n",
    "    print(\"TEST PASSED\")"
   ]
  },
  {
   "cell_type": "code",
   "execution_count": 39,
   "id": "e23f188b-7483-4221-bb91-d8b19fa519df",
   "metadata": {},
   "outputs": [
    {
     "name": "stdout",
     "output_type": "stream",
     "text": [
      "CPU times: user 8 µs, sys: 3 µs, total: 11 µs\n",
      "Wall time: 21 µs\n"
     ]
    }
   ],
   "source": [
    "%%time\n",
    "if RUN_MESHWORK_TESTS:\n",
    "    estimated_time = skclient.generate_bulk_meshworks_async(bulk_rids, datastack_name, verbose_level=1)\n",
    "    print(type(result), result)\n",
    "    assert result == 60.0\n",
    "print(\"TEST PASSED\")"
   ]
  },
  {
   "cell_type": "code",
   "execution_count": null,
   "id": "aff1c60d-e907-44ff-9f17-337ada49a950",
   "metadata": {},
   "outputs": [],
   "source": []
  }
 ],
 "metadata": {
  "kernelspec": {
   "display_name": "work_env3",
   "language": "python",
   "name": "work_env3"
  },
  "language_info": {
   "codemirror_mode": {
    "name": "ipython",
    "version": 3
   },
   "file_extension": ".py",
   "mimetype": "text/x-python",
   "name": "python",
   "nbconvert_exporter": "python",
   "pygments_lexer": "ipython3",
   "version": "3.9.6"
  }
 },
 "nbformat": 4,
 "nbformat_minor": 5
}
